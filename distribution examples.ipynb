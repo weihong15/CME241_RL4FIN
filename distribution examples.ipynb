{
 "cells": [
  {
   "cell_type": "code",
   "execution_count": 2,
   "metadata": {},
   "outputs": [],
   "source": [
    "from rl import distribution"
   ]
  },
  {
   "cell_type": "markdown",
   "metadata": {},
   "source": [
    "# Distribution\n",
    "ABC\n",
    "Abstract method\n",
    "1. sample()\n",
    "2. expectation\n",
    "\n",
    "Methods\n",
    "1. sample_n -> relies on ABS sample\n",
    "2. map\n",
    "3. apply\n",
    "\n",
    "# Sample Distribution\n",
    "inherit from distribution  \n",
    "Need to specify A, which is the type of each sample, i.e. float, int , etc.    \n",
    "Methods\n",
    "1. init, `sampler: Callable[[], A]`, `expectation_samples: int = 10000`\n",
    "2. sample(), return a sample\n",
    "3. expectation, takes a function, calculate E(g(x)) by makeing many samples, and find mean\n",
    "\n",
    "# Uniform Distribution\n",
    "inherit from sample distribution\n",
    "Methods\n",
    "1. init"
   ]
  },
  {
   "cell_type": "code",
   "execution_count": 3,
   "metadata": {},
   "outputs": [
    {
     "data": {
      "text/plain": [
       "0.2632456849354694"
      ]
     },
     "execution_count": 3,
     "metadata": {},
     "output_type": "execute_result"
    }
   ],
   "source": [
    "a = distribution.Uniform()\n",
    "a.sample()"
   ]
  },
  {
   "cell_type": "code",
   "execution_count": 9,
   "metadata": {},
   "outputs": [
    {
     "data": {
      "text/plain": [
       "4.949608188116779"
      ]
     },
     "execution_count": 9,
     "metadata": {},
     "output_type": "execute_result"
    }
   ],
   "source": [
    "a.expectation(lambda x:10*x)"
   ]
  },
  {
   "cell_type": "code",
   "execution_count": 10,
   "metadata": {},
   "outputs": [
    {
     "data": {
      "text/plain": [
       "[0.4363944045919834,\n",
       " 0.8047635622648606,\n",
       " 0.5149593754355206,\n",
       " 0.8666580173762701,\n",
       " 0.20339637150133305,\n",
       " 0.680236355621593,\n",
       " 0.44903983673357395,\n",
       " 0.09536793224584217,\n",
       " 0.28278694101084356,\n",
       " 0.6985680928694069]"
      ]
     },
     "execution_count": 10,
     "metadata": {},
     "output_type": "execute_result"
    }
   ],
   "source": [
    "a.sample_n(10)"
   ]
  },
  {
   "cell_type": "markdown",
   "metadata": {},
   "source": [
    "# Poisson\n",
    "inherit from sample distribution  \n",
    "methods  \n",
    "1. init: will take in lambda and expecation_samples, `expectation_samples: int = 10000`\n"
   ]
  },
  {
   "cell_type": "code",
   "execution_count": 12,
   "metadata": {},
   "outputs": [
    {
     "data": {
      "text/plain": [
       "3.0044"
      ]
     },
     "execution_count": 12,
     "metadata": {},
     "output_type": "execute_result"
    }
   ],
   "source": [
    "b=distribution.Poisson(3)\n",
    "b.sample_n(5)\n",
    "b.expectation(lambda x:x) ##10000 samples"
   ]
  },
  {
   "cell_type": "markdown",
   "metadata": {},
   "source": [
    "# Gaussian\n",
    "inherit from sample distribution  \n",
    "methods  \n",
    "1. init: `μ: float, σ: float, expectation_samples: int = 10000`"
   ]
  },
  {
   "cell_type": "code",
   "execution_count": 14,
   "metadata": {},
   "outputs": [
    {
     "data": {
      "text/plain": [
       "[3, 1, 2, 1, 2]"
      ]
     },
     "execution_count": 14,
     "metadata": {},
     "output_type": "execute_result"
    }
   ],
   "source": [
    "c=distribution.Gaussian(5,2)\n",
    "c.sample_n(5)"
   ]
  },
  {
   "cell_type": "code",
   "execution_count": 22,
   "metadata": {},
   "outputs": [
    {
     "data": {
      "text/plain": [
       "5.020431143395177"
      ]
     },
     "execution_count": 22,
     "metadata": {},
     "output_type": "execute_result"
    }
   ],
   "source": [
    "c.expectation(lambda x:x)"
   ]
  },
  {
   "cell_type": "code",
   "execution_count": 21,
   "metadata": {},
   "outputs": [
    {
     "data": {
      "text/plain": [
       "5"
      ]
     },
     "execution_count": 21,
     "metadata": {},
     "output_type": "execute_result"
    }
   ],
   "source": [
    "c.μ"
   ]
  },
  {
   "cell_type": "markdown",
   "metadata": {},
   "source": [
    "# FiniteDistribution(Distribution[A], ABC)\n",
    "ABC  \n",
    "Type A(the type of each sample, i.e. int, float, tuple(float,float), etc.  \n",
    "Abstract method  \n",
    "1. table() -> return pmf in dictionary. {A: float}\n",
    "\n",
    "Methods  \n",
    "1. probability(outcome:A)-> float, relies on ABS table()\n",
    "2. map, map outcome into another outcome, retaining same prob\n",
    "3. sample()\n",
    "4. expectation(f), find expectation of E(f(x))\n",
    "5. __iter__, iterate through table().items()\n",
    "6. __eq__, if table are equivalent\n",
    "7. __repr__, print table in nice format\n",
    "\n",
    "# Bernoulli\n",
    "Inherit from finiteDistribution  \n",
    "Methods. \n",
    "1. init ` p: float`\n",
    "2. self.sample() ->bool\n",
    "3. table() {True: self.p, False: 1 - self.p}"
   ]
  },
  {
   "cell_type": "code",
   "execution_count": 26,
   "metadata": {},
   "outputs": [
    {
     "data": {
      "text/plain": [
       "[True, True, False, False, True]"
      ]
     },
     "execution_count": 26,
     "metadata": {},
     "output_type": "execute_result"
    }
   ],
   "source": [
    "d = distribution.Bernoulli(0.7)\n",
    "[d.sample() for _ in range(5)] ## don't have sample_n stupid"
   ]
  },
  {
   "cell_type": "markdown",
   "metadata": {},
   "source": [
    "# Choose\n",
    "Inherit from FiniteDistribution  \n",
    "methods. \n",
    "1. init `options: Set[A]`\n",
    "2. sample()\n",
    "3. table() {x: 1.0 / length for x in self.options}\n",
    "4. probability()"
   ]
  },
  {
   "cell_type": "code",
   "execution_count": 30,
   "metadata": {},
   "outputs": [
    {
     "data": {
      "text/plain": [
       "[13, 2, 2, 11, 3, 13, 7, 5, 7, 17]"
      ]
     },
     "execution_count": 30,
     "metadata": {},
     "output_type": "execute_result"
    }
   ],
   "source": [
    "ls = [2,3,5,7,11,13,17,19]\n",
    "e = distribution.Choose(ls)\n",
    "[e.sample() for _ in range(10)]"
   ]
  },
  {
   "cell_type": "code",
   "execution_count": 31,
   "metadata": {},
   "outputs": [
    {
     "data": {
      "text/plain": [
       "{2: 0.125,\n",
       " 3: 0.125,\n",
       " 5: 0.125,\n",
       " 7: 0.125,\n",
       " 11: 0.125,\n",
       " 13: 0.125,\n",
       " 17: 0.125,\n",
       " 19: 0.125}"
      ]
     },
     "execution_count": 31,
     "metadata": {},
     "output_type": "execute_result"
    }
   ],
   "source": [
    "e.table()"
   ]
  },
  {
   "cell_type": "markdown",
   "metadata": {},
   "source": [
    "# Categorical\n",
    "Inherit from FiniteDistribution  \n",
    "methods. \n",
    "1. init `distribution: Mapping[A, float]`, will normalized probabilities\n",
    "2. table()\n",
    "3. probability"
   ]
  },
  {
   "cell_type": "code",
   "execution_count": 40,
   "metadata": {},
   "outputs": [
    {
     "data": {
      "text/plain": [
       "['even', 'even', 5, 'even', 'even', 5, 'even', 5, 'even', 'even']"
      ]
     },
     "execution_count": 40,
     "metadata": {},
     "output_type": "execute_result"
    }
   ],
   "source": [
    "dice ={'even':3, 1:1,3:1,5:1} ##automatically normalized\n",
    "f = distribution.Categorical(dice)\n",
    "[f.sample() for _ in range(10)]"
   ]
  },
  {
   "cell_type": "code",
   "execution_count": 41,
   "metadata": {},
   "outputs": [
    {
     "data": {
      "text/plain": [
       "{'even': 0.5,\n",
       " 1: 0.16666666666666666,\n",
       " 3: 0.16666666666666666,\n",
       " 5: 0.16666666666666666}"
      ]
     },
     "execution_count": 41,
     "metadata": {},
     "output_type": "execute_result"
    }
   ],
   "source": [
    "f.table()"
   ]
  },
  {
   "cell_type": "code",
   "execution_count": 42,
   "metadata": {},
   "outputs": [
    {
     "data": {
      "text/plain": [
       "0.16666666666666666"
      ]
     },
     "execution_count": 42,
     "metadata": {},
     "output_type": "execute_result"
    }
   ],
   "source": [
    "f.probability(3)"
   ]
  },
  {
   "cell_type": "code",
   "execution_count": 43,
   "metadata": {},
   "outputs": [
    {
     "data": {
      "text/plain": [
       "0.5"
      ]
     },
     "execution_count": 43,
     "metadata": {},
     "output_type": "execute_result"
    }
   ],
   "source": [
    "f.probability('even')"
   ]
  },
  {
   "cell_type": "code",
   "execution_count": null,
   "metadata": {},
   "outputs": [],
   "source": []
  }
 ],
 "metadata": {
  "kernelspec": {
   "display_name": "Python 3",
   "language": "python",
   "name": "python3"
  },
  "language_info": {
   "codemirror_mode": {
    "name": "ipython",
    "version": 3
   },
   "file_extension": ".py",
   "mimetype": "text/x-python",
   "name": "python",
   "nbconvert_exporter": "python",
   "pygments_lexer": "ipython3",
   "version": "3.8.5"
  },
  "toc": {
   "base_numbering": 1,
   "nav_menu": {},
   "number_sections": true,
   "sideBar": true,
   "skip_h1_title": false,
   "title_cell": "Table of Contents",
   "title_sidebar": "Contents",
   "toc_cell": false,
   "toc_position": {},
   "toc_section_display": true,
   "toc_window_display": true
  }
 },
 "nbformat": 4,
 "nbformat_minor": 4
}
