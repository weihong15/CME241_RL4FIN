{
 "cells": [
  {
   "cell_type": "markdown",
   "metadata": {},
   "source": [
    "# Type hinting\n",
    "https://realpython.com/python-type-checking/  \n",
    "Adding type hints like this has no runtime effect: they are only hints and are not enforced on their own. For instance, if we use a wrong type for the (admittedly badly named) align argument, the code still runs without any problems or warnings:  \n",
    "\n"
   ]
  },
  {
   "cell_type": "code",
   "execution_count": 2,
   "metadata": {},
   "outputs": [
    {
     "name": "stdout",
     "output_type": "stream",
     "text": [
      "Python Type Checking\n",
      "--------------------\n"
     ]
    }
   ],
   "source": [
    "def headline(text, align=True):\n",
    "    if align:\n",
    "        return f\"{text.title()}\\n{'-' * len(text)}\"\n",
    "    else:\n",
    "        return f\" {text.title()} \".center(50, \"o\")\n",
    "print(headline(\"python type checking\"))"
   ]
  },
  {
   "cell_type": "code",
   "execution_count": 3,
   "metadata": {},
   "outputs": [
    {
     "name": "stdout",
     "output_type": "stream",
     "text": [
      "oooooooooooooo Python Type Checking oooooooooooooo\n"
     ]
    }
   ],
   "source": [
    "print(headline(\"python type checking\", align=False))"
   ]
  },
  {
   "cell_type": "markdown",
   "metadata": {},
   "source": [
    "The above does not have type hinting, to have type hinting we can model oour function as"
   ]
  },
  {
   "cell_type": "code",
   "execution_count": 4,
   "metadata": {},
   "outputs": [
    {
     "name": "stdout",
     "output_type": "stream",
     "text": [
      "Python Type Checking\n",
      "--------------------\n"
     ]
    }
   ],
   "source": [
    "def headline(text: str, align: bool = True) -> str:\n",
    "    if align:\n",
    "        return f\"{text.title()}\\n{'-' * len(text)}\"\n",
    "    else:\n",
    "        return f\" {text.title()} \".center(50, \"o\")\n",
    "    \n",
    "print(headline(\"python type checking\"))    "
   ]
  },
  {
   "cell_type": "markdown",
   "metadata": {},
   "source": [
    "## Syntax\n",
    "`def headline(text: str, align: bool = True) -> str:`\n",
    "the right arrow will show what type the function is"
   ]
  },
  {
   "cell_type": "code",
   "execution_count": 5,
   "metadata": {},
   "outputs": [],
   "source": [
    "import random\n",
    "\n",
    "SUITS = \"♠ ♡ ♢ ♣\".split()\n",
    "RANKS = \"2 3 4 5 6 7 8 9 10 J Q K A\".split()\n",
    "\n",
    "# def create_deck(shuffle=False):\n",
    "def create_deck(shuffle: bool = False) -> List[Tuple[str, str]]:\n",
    "    # type makes things a little clearer? at least the return value, return a list of tuple pair//1 pair=1 card\n",
    "    \"\"\"Create a new deck of 52 cards\"\"\"\n",
    "    deck = [(s, r) for r in RANKS for s in SUITS]\n",
    "    if shuffle:\n",
    "        random.shuffle(deck)\n",
    "    return deck\n",
    "\n",
    "def deal_hands(deck):\n",
    "    \"\"\"Deal the cards in the deck into four hands\"\"\"\n",
    "    return (deck[0::4], deck[1::4], deck[2::4], deck[3::4])\n",
    "\n",
    "def play():\n",
    "    \"\"\"Play a 4-player card game\"\"\"\n",
    "    deck = create_deck(shuffle=True)\n",
    "    names = \"P1 P2 P3 P4\".split()\n",
    "    hands = {n: h for n, h in zip(names, deal_hands(deck))}\n",
    "\n",
    "    for name, cards in hands.items():\n",
    "        card_str = \" \".join(f\"{s}{r}\" for (s, r) in cards)\n",
    "        print(f\"{name}: {card_str}\")"
   ]
  },
  {
   "cell_type": "code",
   "execution_count": 8,
   "metadata": {},
   "outputs": [
    {
     "name": "stdout",
     "output_type": "stream",
     "text": [
      "P1: ♡A ♠K ♡J ♠10 ♠9 ♣6 ♣J ♣8 ♢5 ♣9 ♢K ♡6 ♢7\n",
      "P2: ♣Q ♡3 ♠3 ♡5 ♠6 ♠2 ♢8 ♣7 ♡K ♢2 ♢4 ♣3 ♣A\n",
      "P3: ♠7 ♢9 ♢A ♣5 ♡7 ♢6 ♡9 ♢3 ♣K ♢Q ♡8 ♠4 ♡Q\n",
      "P4: ♠8 ♣4 ♠J ♣2 ♢10 ♠A ♡2 ♢J ♡10 ♠5 ♠Q ♡4 ♣10\n"
     ]
    }
   ],
   "source": [
    "play()"
   ]
  },
  {
   "cell_type": "code",
   "execution_count": 9,
   "metadata": {},
   "outputs": [],
   "source": [
    "name: str = \"Guido\"\n",
    "pi: float = 3.142\n",
    "centered: bool = False\n",
    "names: list = [\"Guido\", \"Jukka\", \"Ivan\"]\n",
    "version: tuple = (3, 7, 1)\n",
    "options: dict = {\"centered\": False, \"capitalize\": True}"
   ]
  },
  {
   "cell_type": "code",
   "execution_count": 10,
   "metadata": {},
   "outputs": [],
   "source": [
    "from typing import Dict, List, Tuple\n",
    "\n",
    "names: List[str] = [\"Guido\", \"Jukka\", \"Ivan\"]\n",
    "version: Tuple[int, int, int] = (3, 7, 1)\n",
    "options: Dict[str, bool] = {\"centered\": False, \"capitalize\": True}"
   ]
  },
  {
   "cell_type": "markdown",
   "metadata": {},
   "source": [
    "## mixed types\n",
    "if your function can accept either list or tuple we can use *sequence*"
   ]
  },
  {
   "cell_type": "code",
   "execution_count": 11,
   "metadata": {},
   "outputs": [],
   "source": [
    "from typing import List, Sequence\n",
    "\n",
    "def square(elems: Sequence[float]) -> List[float]:\n",
    "    return [x**2 for x in elems]\n",
    "## accepts both tuple/list and output list"
   ]
  },
  {
   "cell_type": "markdown",
   "metadata": {},
   "source": [
    "## messy types\n",
    "for our deal hands, we will return a tuple of 4 element, each element is a list of tuples, each smallest tuple is a 1 card, each list is a person hand.\n",
    "```\n",
    "def deal_hands(\n",
    "    deck: List[Tuple[str, str]]\n",
    ") -> Tuple[\n",
    "    List[Tuple[str, str]],\n",
    "    List[Tuple[str, str]],\n",
    "    List[Tuple[str, str]],\n",
    "    List[Tuple[str, str]],\n",
    "]:\n",
    "    \"\"\"Deal the cards in the deck into four hands\"\"\"\n",
    "    return (deck[0::4], deck[1::4], deck[2::4], deck[3::4])\n",
    "```\n",
    "\n",
    "The above is really messy, we can define our own type"
   ]
  },
  {
   "cell_type": "code",
   "execution_count": 12,
   "metadata": {},
   "outputs": [],
   "source": [
    "from typing import List, Tuple\n",
    "\n",
    "Card = Tuple[str, str]\n",
    "Deck = List[Card]\n",
    "\n",
    "def deal_hands(deck: Deck) -> Tuple[Deck, Deck, Deck, Deck]:\n",
    "    \"\"\"Deal the cards in the deck into four hands\"\"\"\n",
    "    return (deck[0::4], deck[1::4], deck[2::4], deck[3::4])"
   ]
  },
  {
   "cell_type": "code",
   "execution_count": 13,
   "metadata": {},
   "outputs": [
    {
     "data": {
      "text/plain": [
       "typing.List[typing.Tuple[str, str]]"
      ]
     },
     "execution_count": 13,
     "metadata": {},
     "output_type": "execute_result"
    }
   ],
   "source": [
    "Deck"
   ]
  },
  {
   "cell_type": "markdown",
   "metadata": {},
   "source": [
    "we can also inspect what's in a deck, a deck is a list of cards(tuple pair)"
   ]
  },
  {
   "cell_type": "markdown",
   "metadata": {},
   "source": [
    "## return type None\n",
    "```\n",
    "def play(player_name: str) -> None:\n",
    "    print(f\"{player_name} plays\")\n",
    "```\n"
   ]
  },
  {
   "cell_type": "code",
   "execution_count": 14,
   "metadata": {},
   "outputs": [],
   "source": [
    "import random\n",
    "from typing import List, Tuple\n",
    "\n",
    "SUITS = \"♠ ♡ ♢ ♣\".split()\n",
    "RANKS = \"2 3 4 5 6 7 8 9 10 J Q K A\".split()\n",
    "\n",
    "Card = Tuple[str, str]\n",
    "Deck = List[Card]\n",
    "\n",
    "def create_deck(shuffle: bool = False) -> Deck:\n",
    "    \"\"\"Create a new deck of 52 cards\"\"\"\n",
    "    deck = [(s, r) for r in RANKS for s in SUITS]\n",
    "    if shuffle:\n",
    "        random.shuffle(deck)\n",
    "    return deck\n",
    "\n",
    "def deal_hands(deck: Deck) -> Tuple[Deck, Deck, Deck, Deck]:\n",
    "    \"\"\"Deal the cards in the deck into four hands\"\"\"\n",
    "    return (deck[0::4], deck[1::4], deck[2::4], deck[3::4])\n",
    "\n",
    "def choose(items):\n",
    "    \"\"\"Choose and return a random item\"\"\"\n",
    "    return random.choice(items)\n",
    "\n",
    "def player_order(names, start=None):\n",
    "    \"\"\"Rotate player order so that start goes first\"\"\"\n",
    "    if start is None:\n",
    "        start = choose(names)\n",
    "    start_idx = names.index(start)\n",
    "    return names[start_idx:] + names[:start_idx]\n",
    "\n",
    "def play() -> None:\n",
    "    \"\"\"Play a 4-player card game\"\"\"\n",
    "    deck = create_deck(shuffle=True)\n",
    "    names = \"P1 P2 P3 P4\".split()\n",
    "    hands = {n: h for n, h in zip(names, deal_hands(deck))}\n",
    "    start_player = choose(names)\n",
    "    turn_order = player_order(names, start=start_player)\n",
    "\n",
    "    # Randomly play cards from each player's hand until empty\n",
    "    while hands[start_player]:\n",
    "        for name in turn_order:\n",
    "            card = choose(hands[name])\n",
    "            hands[name].remove(card)\n",
    "            print(f\"{name}: {card[0] + card[1]:<3}  \", end=\"\")\n",
    "        print()"
   ]
  },
  {
   "cell_type": "code",
   "execution_count": 15,
   "metadata": {},
   "outputs": [
    {
     "name": "stdout",
     "output_type": "stream",
     "text": [
      "P1: ♣J   P2: ♠K   P3: ♠A   P4: ♣6   \n",
      "P1: ♢7   P2: ♡K   P3: ♣5   P4: ♢9   \n",
      "P1: ♣Q   P2: ♠3   P3: ♡J   P4: ♣4   \n",
      "P1: ♣K   P2: ♣9   P3: ♡6   P4: ♠2   \n",
      "P1: ♢Q   P2: ♢J   P3: ♡4   P4: ♠Q   \n",
      "P1: ♢6   P2: ♠8   P3: ♢3   P4: ♡9   \n",
      "P1: ♡10  P2: ♠6   P3: ♡8   P4: ♣10  \n",
      "P1: ♣7   P2: ♢K   P3: ♢8   P4: ♠J   \n",
      "P1: ♡Q   P2: ♢2   P3: ♣8   P4: ♡7   \n",
      "P1: ♠4   P2: ♠9   P3: ♣3   P4: ♡A   \n",
      "P1: ♢10  P2: ♣A   P3: ♢A   P4: ♠10  \n",
      "P1: ♡3   P2: ♡2   P3: ♠7   P4: ♠5   \n",
      "P1: ♡5   P2: ♢4   P3: ♢5   P4: ♣2   \n"
     ]
    }
   ],
   "source": [
    "play()"
   ]
  },
  {
   "cell_type": "markdown",
   "metadata": {},
   "source": [
    "## Any type, typing.any\n"
   ]
  },
  {
   "cell_type": "code",
   "execution_count": 21,
   "metadata": {},
   "outputs": [
    {
     "name": "stdout",
     "output_type": "stream",
     "text": [
      "<class 'list'>\n",
      "<class 'str'>\n",
      "Guido\n",
      "<class 'str'>\n",
      "i\n"
     ]
    }
   ],
   "source": [
    "import random\n",
    "from typing import Any, Sequence\n",
    "\n",
    "def choose(items: Sequence[Any]) -> Any:\n",
    "    return random.choice(items)\n",
    "    \n",
    "names = [\"Guido\", \"Jukka\", \"Ivan\"]\n",
    "print(type(names))\n",
    "\n",
    "name = choose(names)\n",
    "print(type(name))\n",
    "print(name)\n",
    "letter = choose(name)\n",
    "print(type(letter))\n",
    "print(letter)"
   ]
  },
  {
   "cell_type": "markdown",
   "metadata": {},
   "source": [
    "## any type variable II, TypeVar, custom make class\n",
    "A type variable is a special variable that can take on any type, depending on the situation.\n",
    "\n"
   ]
  },
  {
   "cell_type": "code",
   "execution_count": 28,
   "metadata": {},
   "outputs": [],
   "source": [
    "import random\n",
    "from typing import Sequence, TypeVar\n",
    "\n",
    "# Choosable = TypeVar(\"Choosable\")\n",
    "Choosable = TypeVar(\"rubbish\") ##seems like this typeVar is actually any, we should use below to restrict to str, float\n",
    "\n",
    "def choose(items: Sequence[Choosable]) -> Choosable:\n",
    "    return random.choice(items)\n",
    "\n",
    "names = [\"Guido\", \"Jukka\", \"Ivan\"]\n",
    "\n",
    "\n",
    "name = choose(names)\n"
   ]
  },
  {
   "cell_type": "code",
   "execution_count": 32,
   "metadata": {},
   "outputs": [],
   "source": [
    "## below we further restrict choosable class to be of str and float\n",
    "Choosable = TypeVar(\"Choosable\", str, float) ##float consist of int, bool\n",
    "def choose(items: Sequence[Choosable]) -> Choosable:\n",
    "    return random.choice(items)"
   ]
  },
  {
   "cell_type": "markdown",
   "metadata": {},
   "source": [
    "## Optional type, None and another value\n",
    "This allow a variable to be None and another value. e.g.\n",
    "```\n",
    "from typing import Sequence, Optional\n",
    "\n",
    "def player_order(\n",
    "    names: Sequence[str], start: Optional[str] = None\n",
    ") -> Sequence[str]:\n",
    "    \"\"\"Rotate player order so that start goes first\"\"\"\n",
    "    if start is None:\n",
    "        start = choose(names)\n",
    "    start_idx = names.index(start)\n",
    "    return names[start_idx:] + names[:start_idx]\n",
    "```\n",
    "We can see that start can be None or a string\n"
   ]
  },
  {
   "cell_type": "markdown",
   "metadata": {},
   "source": [
    "## Callable type, python functions \n",
    "Functions, as well as lambdas, methods and classes, are represented by typing.Callable. The types of the arguments and the return value are usually also represented. For instance, Callable[[A1, A2, A3], Rt] represents a function with three arguments with types A1, A2, and A3, respectively. The return type of the function is Rt."
   ]
  },
  {
   "cell_type": "code",
   "execution_count": 43,
   "metadata": {
    "scrolled": true
   },
   "outputs": [
    {
     "name": "stdout",
     "output_type": "stream",
     "text": [
      "Hello Jekyll\n",
      "Hello Jekyll\n"
     ]
    }
   ],
   "source": [
    "from typing import Callable\n",
    "\n",
    "def do_twice(func: Callable[[str], str], argument: str) -> None:\n",
    "    print(func(argument))\n",
    "    print(func(argument))\n",
    "\n",
    "# we see from above callable is a function that accept a string and output a string\n",
    "    \n",
    "def create_greeting(name: str) -> str:\n",
    "    return f\"Hello {name}\"\n",
    "\n",
    "do_twice(create_greeting, \"Jekyll\")"
   ]
  },
  {
   "cell_type": "markdown",
   "metadata": {},
   "source": [
    "## Frozen for data classes??\n",
    "https://realpython.com/python-data-classes/"
   ]
  },
  {
   "cell_type": "markdown",
   "metadata": {},
   "source": [
    "# RL book code: distribution\n",
    "\n",
    "Most base class \n",
    "A= States\n",
    "B = probability??? god knows what\n",
    "## Most basic class: Distribution\n",
    "Methods\n",
    "1. (ABS) self.sample() --> return A(state) \n",
    "2. self.sampleN() --> list of A\n",
    "3. (ABS) self.expectation()\n",
    "4. self.map(function) --> (should be a mapping frmo state to probability, f(S)=p //distribution??\n",
    "5. self.apply(funtion) //distribution???\n",
    "\n",
    "## Sample Distribution (or continuous distribution)\n",
    "Derived from Distribution\n",
    "1. init\n",
    "    1. sampler: function to generate state with no arguement\n",
    "    2. expectation_samples: number of samples?? default 10k\n",
    "2. self.sample() = self.sampler()\n",
    "3. self.expectation(f) -> float: Find the expectation of E(f(x)), where x are the states, will use expectation_samples\n",
    "\n",
    "### Uniform Distribution\n",
    "Derived from Sample Distribution\n",
    "1. init super().__init__ \n",
    "    1. sampler= lambda: random.uniform(0, 1)\n",
    "\n",
    "### Poisson\n",
    "Derived from Sample Distribution\n",
    "1. init super().__init__ and self.lambda\n",
    "    1. lambda (accepts lambda for class construction)\n",
    "    2. sampler= lambda: np.random.poisson(lam=self.λ)\n",
    "    \n",
    "### Gaussian\n",
    "Derived from Sample Distribution\n",
    "1. init super().__init__ and mu and sigma\n",
    "    1. mu, sigma: (accepts for class construction)\n",
    "    2. sampler= lambda: np.random.normal(loc=self.μ, scale=self.σ),\n",
    "    \n",
    "## Finite Distribution\n",
    "Methods\n",
    "1. (ABS) self.table(), return a dictionary (state(A) --> probability)\n",
    "2. self.probability(outcome:A) self.table()[outcome]\n",
    "3. self.map ???????????? returning a new distribution by perturbing with f,\n",
    "    e,g, f=x^2 then [1:0.5, -1:0.5] will become [1:1]\n",
    "4. self.sample() -> A return a random state, based on self.table()\n",
    "5. self.expectation(f(A)) : find E(f(x)), sum(p * f(x) for x, p in self) \n",
    "6. __iter__: iter(self.table().items()) , loop over gives (A,probability) = (x,p)\n",
    "7. __eq__ : equality of self.table()\n",
    "8. __repr__ : print self.table()\n",
    "\n",
    "### Constant distribution(boring)\n",
    "### Bernoulli distribution\n",
    "Inherit from finite distribution\n",
    "1. init, accept a single arguement p\n",
    "2. self.sample() return random.uniform(0, 1) <= self.p\n",
    "3. self.table() return {True: self.p, False: 1 - self.p}\n",
    "4. self.probability accepts a state(bool), return p if true, else 1-p\n",
    "\n",
    "### Choose Distribution\n",
    "Inherit from finite distribution\n",
    "1. init, accept a set of all states, store as self.options\n",
    "2. self.sample() return random.choice(list(self.options))\n",
    "3. self.table() return a dictionary of{state_i :1/n}, where n is the total num of states\n",
    "4. self.probability(state), return 1/n if in set, else 0\n",
    "\n",
    "### Categorical Distribution\n",
    "Inherit from finite distribution\n",
    "1. init, accept a mapping from states to float(probabilities), we will help normalize it store as self.probabilities\n",
    "2. self.table() return self.probabilities\n",
    "3. self.probability(A) return self.table().get(A,0) //if not found = 0"
   ]
  },
  {
   "cell_type": "code",
   "execution_count": 48,
   "metadata": {},
   "outputs": [],
   "source": [
    "import numpy as np\n",
    "f = lambda:np.random.normal(0,1)"
   ]
  },
  {
   "cell_type": "markdown",
   "metadata": {},
   "source": [
    "# rl book code: markov process\n",
    "## Definition\n",
    "* Transition type: Transition = Mapping[S, Optional[FiniteDistribution[S]]]  \n",
    "is a dictionary from s1 -> dict{s2 , probability}        //if s1 is terminal, d[s1]=None  \n",
    "* Distribution of S, it will just be transition[S]\n",
    "\n",
    "## Most Basic class: MarkovProcess\n",
    "1. (ABS) self.transition(state:S) -> Optional[Distribution[S]]\n",
    "2. self.is_terminal(state:S) -> return self.transition(state) is None\n",
    "3. self.simulate(start_state_distribution: Distribution[S]) -> iteratble[S]\n",
    "    1. input will just be distribution of starting state, can be dictionary or uniform, etc\n",
    "    2. distribution must have a method called sample()\n",
    "    3. make use of yield to generate finite sequence,(from infinite yield)\n",
    "    4. this will jsut run 1 path(1 trace)\n",
    "4. self.traces(start_state_distribution: Distribution[S]) -> iterable[iteratble[S]]\n",
    "    1. running multiple paths, using yield\n",
    "    \n",
    "### Finite Markov Process\n",
    "parent class, MarkovProcess[S]\n",
    "1. init\n",
    "    1. accep transition map as arguement, stored as self.transition_map\n",
    "    2. self.non_terminal_states, find those values that are not equal None, store the states in a list\n",
    "2. __repr__, printing which state to whcih state or terminal state\n",
    "3. get_transition_matrix(), will just change transition map into a matrix, note matrix rows and columns are just non-temrinal states\n",
    "4. transition(staet:S)-> return transition_map[state]\n",
    "5. states-> Iterable[S] -> return transition_map.keys() (list of all states)\n",
    "6. get_stationary_distribution() -> return a dictionary of state and probability in the state\n",
    "7. display_stationary_distribution -> pretty print above\n",
    "8. generate_image() -> draw a graph of states and how it's linked"
   ]
  },
  {
   "cell_type": "markdown",
   "metadata": {},
   "source": [
    "## TransitionStep\n",
    "parent class, generic[S]\n",
    "1. no init\n",
    "2. add_return ???\n",
    "3. (state,next state, reward)\n",
    "\n",
    "## Return Steps\n",
    "???\n",
    "## Markov Reward Process\n",
    "parent class, MarkovProcess\n",
    "ABS\n",
    "1. self.transition(state:S) -> Optional[Distribution[S]]\n",
    "return the distribution of next state\n",
    "2. self.transition_reward(State:S) -> Optional[Distribution[Tuple[S, float]]]\n",
    "return None or distribution of next state and reward\n",
    "3. self.simulate_reward(start_state_distribution:Distribution[S]0 -> list(transitionStep[S])\n",
    "generate list of (state, next state, reward)\n",
    "4. self.reward_traces(start_state_distribution: Distribution[S]) -> Iterable[Iterable[TransitionStep[S]]]:\n",
    "yield simulation traces\n",
    "\n",
    "## defintion:\n",
    "1. StateReward = FiniteDistribution[Tuple[S, float]]\n",
    "2. RewardTransition = Mapping[S, Optional[StateReward[S]]]\n",
    "3. transition_reward_map = RewardTransition[S]\n",
    "4. reward_function_vec: np.ndarray\n",
    "\n",
    "## FiniteMarkovRewardProcess\n",
    "Inherit from Finite markov process and markov reward process\n",
    "1. init(transition_reward_map: RewardTransition[S]), i.e. dictionary from source state, value as a dictionary to all possible states and probability. {s1 -> {s2 -> prob}}\n",
    "\n"
   ]
  },
  {
   "cell_type": "markdown",
   "metadata": {},
   "source": [
    "# real code examples\n",
    "\n",
    "## markov_process.Transition[S]\n",
    "```\n",
    "{DSilverState(name='Class 1'): {DSilverState(name='Facebook'): 0.5, DSilverState(name='Class 2'): 0.5},\n",
    " DSilverState(name='Class 2'): {DSilverState(name='Pub'): 0.2, DSilverState(name='Class 3'): 0.8},\n",
    " DSilverState(name='Class 3'): {DSilverState(name='Pass'): 0.6, DSilverState(name='Pub'): 0.4},\n",
    " DSilverState(name='Facebook'): {DSilverState(name='Facebook'): 0.7000000000000001, DSilverState(name='Fail'): 0.20000000000000004, DSilverState(name='Class 1'): 0.10000000000000002},\n",
    " DSilverState(name='Pub'): {DSilverState(name='Class 1'): 0.2, DSilverState(name='Class 2'): 0.3, DSilverState(name='Class 3'): 0.4, DSilverState(name='Fail'): 0.1},\n",
    " DSilverState(name='Pass'): None,\n",
    " DSilverState(name='Fail'): None}\n",
    " ```\n",
    "### INherit is terminal\n",
    "c.is_terminal(playerPos(95))"
   ]
  },
  {
   "cell_type": "code",
   "execution_count": null,
   "metadata": {},
   "outputs": [],
   "source": []
  }
 ],
 "metadata": {
  "kernelspec": {
   "display_name": "Python 3",
   "language": "python",
   "name": "python3"
  },
  "language_info": {
   "codemirror_mode": {
    "name": "ipython",
    "version": 3
   },
   "file_extension": ".py",
   "mimetype": "text/x-python",
   "name": "python",
   "nbconvert_exporter": "python",
   "pygments_lexer": "ipython3",
   "version": "3.8.5"
  },
  "toc": {
   "base_numbering": 1,
   "nav_menu": {},
   "number_sections": true,
   "sideBar": true,
   "skip_h1_title": false,
   "title_cell": "Table of Contents",
   "title_sidebar": "Contents",
   "toc_cell": false,
   "toc_position": {
    "height": "calc(100% - 180px)",
    "left": "10px",
    "top": "150px",
    "width": "288px"
   },
   "toc_section_display": true,
   "toc_window_display": true
  }
 },
 "nbformat": 4,
 "nbformat_minor": 4
}
