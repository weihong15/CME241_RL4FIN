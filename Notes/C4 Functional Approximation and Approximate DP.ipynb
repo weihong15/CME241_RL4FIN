{
 "cells": [
  {
   "cell_type": "markdown",
   "metadata": {},
   "source": [
    "Drawbacks of DP\n",
    "1. only work for non-large finite spaces\n",
    "2. sweep through all states in each iteration\n"
   ]
  },
  {
   "cell_type": "markdown",
   "metadata": {},
   "source": [
    "# Function aprprox class\n",
    "1. solve, give it a sequence of ((x,y) pairs), find best function approx, linear, neural, quadratic, etc\n",
    "2. evaluate: iterable(X), will find expected value of y given x\n",
    "3. update: stochastic gradient descend, to get closer to solve, can be other method, bisection, backward propegation,\n",
    "    1. this will update the parameters by \n",
    "4. iterate_updates: run update several times, similar to solve\n",
    "\n",
    "# Linear Function Approximation\n",
    "Define feature fnction $\\Phi_j:\\mathcal{X}\\rightarrow \\mathbb{R}, j=1,2,\\dots,m$\n",
    "* parameters w is a weight vector $\\mathbf{w} = (w_1,...,w_m)\\in\\mathbb{R}^m$\n",
    "* Linear function approx assumes normal distribution of $y|x$\n",
    "\n",
    "Our aim is to find predictor $Y$ where it is equal to\n",
    "\\begin{equation}\n",
    "Y = \\sum_{j=1}^m \\phi_j(x)\\cdot w_j\n",
    "\\end{equation}\n",
    "Calculation of cross entropy and minimizing it, add on regularization term. differentiate it.\n",
    "\n",
    "\n",
    "\n",
    "# Deep neural network approximation\n",
    "\n",
    "...\n",
    "\n",
    "# Exponential function form approximation using cannonical link function\n",
    "\n",
    "...\n",
    "\n",
    "# Tabular as a form of function Approx\n",
    "Tabular are things that can be defined with dictionary/mapping  \n",
    "Tabular is a special case of linear function approx, each $\\phi_i$ are indicators functions for each $X_i$\n"
   ]
  },
  {
   "cell_type": "code",
   "execution_count": null,
   "metadata": {},
   "outputs": [],
   "source": []
  }
 ],
 "metadata": {
  "kernelspec": {
   "display_name": "Python 3",
   "language": "python",
   "name": "python3"
  },
  "language_info": {
   "codemirror_mode": {
    "name": "ipython",
    "version": 3
   },
   "file_extension": ".py",
   "mimetype": "text/x-python",
   "name": "python",
   "nbconvert_exporter": "python",
   "pygments_lexer": "ipython3",
   "version": "3.8.5"
  },
  "toc": {
   "base_numbering": 1,
   "nav_menu": {},
   "number_sections": true,
   "sideBar": true,
   "skip_h1_title": false,
   "title_cell": "Table of Contents",
   "title_sidebar": "Contents",
   "toc_cell": false,
   "toc_position": {},
   "toc_section_display": true,
   "toc_window_display": false
  }
 },
 "nbformat": 4,
 "nbformat_minor": 4
}
