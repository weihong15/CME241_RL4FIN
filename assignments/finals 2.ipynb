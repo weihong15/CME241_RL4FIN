{
 "cells": [
  {
   "cell_type": "markdown",
   "metadata": {},
   "source": [
    "# Question 2\n",
    "\n",
    "\\begin{equation}\n",
    "V_\\theta (x) = \\frac{(\\theta x)^{(1-\\gamma)}}{1-\\gamma} + \\beta \\frac{(\\theta(1-\\theta) x)^{(1-\\gamma)}}{1-\\gamma} + \\beta^2 \\frac{(\\theta(1-\\theta)^2 x)^{(1-\\gamma)}}{1-\\gamma} + \\dots \\\\\n",
    "= \\frac{(\\theta x)^{1-\\gamma}}{1-\\gamma} \\sum_{i=0}^\\infty \\beta^i[(1-\\theta)^{1-\\gamma}]^i \\\\\n",
    "= \\frac{(\\theta x)^{1-\\gamma}}{1-\\gamma} \\cdot \\frac{1}{1-\\beta(1-\\theta)^{1-\\gamma}}\n",
    "\\end{equation}\n",
    "\n"
   ]
  },
  {
   "cell_type": "markdown",
   "metadata": {},
   "source": [
    "## 2b\n",
    "\\begin{equation}\n",
    "\\frac{\\partial V_\\theta}{\\partial \\theta} = \\frac{x^{1-\\gamma}}{1-\\gamma} \\cdot \\frac{(1-\\gamma)\\theta^{-\\gamma}(1-\\beta(1-\\theta)^{1-\\gamma}) - \\theta^{1-\\gamma}(1-\\gamma)\\beta(1-\\theta)^{-\\gamma}}{(1-\\beta(1-\\theta)^{1-\\gamma})^2}\\\\\n",
    "\\frac{\\partial V_\\theta}{\\partial \\theta} = 0 \\rightarrow  (1-\\gamma)\\theta^{-\\gamma}(1-\\beta(1-\\theta)^{1-\\gamma}) - \\theta^{1-\\gamma}(1-\\gamma)\\beta(1-\\theta)^{-\\gamma} = 0 \\\\\n",
    "(1-\\beta(1-\\theta)^{1-\\gamma}) - \\theta\\beta(1-\\theta)^{-\\gamma} = 0 \\\\\n",
    "(1-\\theta)^{\\gamma}-\\beta(1-\\theta) - \\theta\\beta = 0 \\\\\n",
    "\\theta^* = 1-\\beta^{\\frac{1}{\\gamma}}\n",
    "\\end{equation}\n",
    "\n",
    "This $\\theta^*$ is a maximizer, as the second partial derivative is always more than 0\n"
   ]
  },
  {
   "cell_type": "markdown",
   "metadata": {},
   "source": [
    "# 2c\n",
    "\n",
    "\\begin{equation}\n",
    "V^*(x) = \\frac{(\\theta^* x)^{1-\\gamma}}{1-\\gamma} \\cdot \\frac{1}{1-\\beta(1-\\theta^*)^{1-\\gamma}} \\\\\n",
    "= \\frac{x^{1-\\gamma}}{1-\\gamma} \\cdot \\frac{(1-\\beta^{\\frac{1}{\\gamma}})^{1-\\gamma}}{1-\\beta^{\\frac{1}{\\gamma}}} \\\\\n",
    "= \\frac{x^{1-\\gamma}}{1-\\gamma} \\cdot \\frac{1}{(1-\\beta^{\\frac{1}{\\gamma}})^\\gamma}\n",
    "\\end{equation}"
   ]
  },
  {
   "cell_type": "markdown",
   "metadata": {},
   "source": [
    "# 2d\n",
    "\\begin{equation}\n",
    "\\text{we want to show } V^*(x) = \\mathcal{R}(x,a^*) + \\beta \\cdot V^*((1-\\theta^*) x) \\\\\n",
    "\\text{ starting from right hand side } \\\\\n",
    "\\mathcal{R}(x,a^*) + \\beta \\cdot V^*((1-\\theta^*) x) = (\\theta^*)^{1-\\gamma} x^{1-\\gamma} \\cdot \\frac{1}{1-\\gamma} + \\beta \\frac{((1-\\theta^*) x)^{1-\\gamma}}{1-\\gamma} \\cdot \\frac{1}{(1-\\beta^{\\frac{1}{\\gamma}})^\\gamma} \\\\\n",
    "= \\frac{x^{1-\\gamma}}{1-\\gamma} \\cdot \\frac{1}{(1-\\beta^{\\frac{1}{\\gamma}})^\\gamma} [ (\\theta^*)^{1-\\gamma}(1-\\beta^{\\frac{1}{\\gamma}})^\\gamma +\\beta (1-\\theta^*)^{1-\\gamma}] \\\\\n",
    "= \\frac{x^{1-\\gamma}}{1-\\gamma} \\cdot \\frac{1}{(1-\\beta^{\\frac{1}{\\gamma}})^\\gamma} [\\theta^* +\\beta^{\\frac{1}{\\gamma}}] \\\\\n",
    "= \\frac{x^{1-\\gamma}}{1-\\gamma} \\cdot \\frac{1}{(1-\\beta^{\\frac{1}{\\gamma}})^\\gamma} \\\\\n",
    "= V^*(x)\n",
    "\\end{equation}"
   ]
  },
  {
   "cell_type": "markdown",
   "metadata": {},
   "source": [
    "# Question 3\n",
    "\n",
    "* State\n",
    "    * $B_i$: left over balance at time i\n",
    "    * $N_i$: number of months left, n-i\n",
    "    * $O_i$: Option 1 or Option 2\n",
    "    * $IR_i$: floating interest rate at time i\n",
    "    \n",
    "* Action:\n",
    "    * ignore: ignore switching to floating interest rate\n",
    "    * change: change to floating interest rate\n",
    "\n",
    "* Reward:\n",
    "    * $-I_i-P_i$: total amount of money paid that month\n",
    "    * addition C if change\n",
    "    \n",
    "* Transition:\n",
    "    * the probability of transiting from fixed rate to floating rate is definite here(i.e. 1) \n",
    "    * while it's not possible to transit from floating rate loan to fixed rate loan\n",
    "\n",
    "* Discount Factor:\n",
    "    * r, we use \"time value of money\" constant discount rate given in the question\n",
    "    \n",
    "\n",
    "\\begin{equation}\n",
    "\\mathcal{N} = \\{ (B,N,O)| B \\in (0,L], N \\in \\{1,...,M\\}, O \\in \\{1,2\\} \\} \\\\\n",
    "\\mathcal{T} = (0,0,O), O \\in \\{1,2\\} \\\\\n",
    "\\mathcal{S} = \\mathcal{T} \\cup \\mathcal{N} \\\\\n",
    "\\mathcal{A} = \\{ \"change\", \"stay\" \\} \\\\\n",
    "\\end{equation}\n",
    "\n",
    "\\begin{equation}\n",
    " \\mathcal{P}((B,N,O,IR),a,(B',N',O',IR')) = \n",
    "  \\begin{cases} \n",
    "      \\hfill 1    \\hfill & \\text{ if $a = \"change\", B' = B, N' = n, O' = 2, O = 1$} \\\\\n",
    "      \\hfill 1    \\hfill & \\text{ if $a = \"stay\", B' = B, N'=N, O' = 1, O = 1$} \\\\\n",
    "      \\hfill 1    \\hfill & \\text{ if $B' = B, N' = N, O' = 2, O = 2$} \\\\\n",
    "      \\hfill 0    \\hfill & \\text{ o.w.}\n",
    "  \\end{cases}\n",
    "\\end{equation}\n",
    "\n",
    "\\begin{equation}\n",
    "\\mathcal{R}_T((B,N,O,IR),a,(B',N',O',IR')) = \n",
    "    \\begin{cases} \n",
    "      \\hfill -I_i-P_i -C   \\hfill & \\text{ if $a = \"change\", B' = B, N' = n, O' = 2, O = 1$} \\\\\n",
    "      \\hfill -I_i-P_i   \\hfill & \\text{ if $a = \"stay\", B' = B, O' = 1, O = 1$} \\\\\n",
    "      \\hfill 0    \\hfill & \\text{ o.w.}\n",
    "  \\end{cases}\n",
    "\\end{equation}"
   ]
  },
  {
   "cell_type": "markdown",
   "metadata": {},
   "source": [
    "## 3b\n",
    "\n",
    "In this case, our action space is small(change or no change) and our state space is large.(all possible interest rate,etc) I will suggest using a good function approximation for Q-value function. And do Q-learning on it. Given current interest rate, we can sample interest rate in the next time step."
   ]
  },
  {
   "cell_type": "code",
   "execution_count": null,
   "metadata": {},
   "outputs": [],
   "source": []
  }
 ],
 "metadata": {
  "kernelspec": {
   "display_name": "Python 3",
   "language": "python",
   "name": "python3"
  },
  "language_info": {
   "codemirror_mode": {
    "name": "ipython",
    "version": 3
   },
   "file_extension": ".py",
   "mimetype": "text/x-python",
   "name": "python",
   "nbconvert_exporter": "python",
   "pygments_lexer": "ipython3",
   "version": "3.8.5"
  },
  "toc": {
   "base_numbering": 1,
   "nav_menu": {},
   "number_sections": true,
   "sideBar": true,
   "skip_h1_title": false,
   "title_cell": "Table of Contents",
   "title_sidebar": "Contents",
   "toc_cell": false,
   "toc_position": {},
   "toc_section_display": true,
   "toc_window_display": false
  }
 },
 "nbformat": 4,
 "nbformat_minor": 4
}
