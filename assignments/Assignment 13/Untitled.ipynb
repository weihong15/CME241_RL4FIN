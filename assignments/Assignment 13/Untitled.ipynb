{
 "cells": [
  {
   "cell_type": "markdown",
   "metadata": {},
   "source": [
    "Implement GLIE tabular MC control\n",
    "* sample kth episode using $\\pi : {S_0,A_0,R_1,S_1,A_1,...,R_T,S_T} \\sim \\pi$\n",
    "* For each state $S_t$ and action $A_t$ in episode, updates at episode-end:\n",
    "\\begin{equation}\n",
    "Count(S_t,A_t) \\leftarrow Count(S_t,A_t) + 1 \\\\\n",
    "Q(S_t,A_t) \\leftarrow Q(S_t,A_t)+\\frac{1}{Count(S_t,A_t)} \\cdot (G_t - Q(S_t,A_t))\n",
    "\\end{equation}\n",
    "* Improve policy at end of episode based on updated Q-Value function:\n",
    "\\begin{equation}\n",
    "\\epsilon \\leftarrow \\frac{1}{k} \\\\\n",
    "\\pi \\leftarrow \\epsilon -greedy(Q)\n",
    "\\end{equation}"
   ]
  },
  {
   "cell_type": "code",
   "execution_count": 1,
   "metadata": {},
   "outputs": [],
   "source": [
    "import sys\n",
    "import os\n",
    "\n",
    "module_path = os.path.abspath(os.path.join('..'))\n",
    "sys.path.append(os.path.dirname(module_path))\n",
    "\n",
    "from rl.chapter2.simple_inventory_mrp import SimpleInventoryMRPFinite\n",
    "from typing import Sequence, Iterable, Callable\n",
    "from rl.function_approx import AdamGradient\n",
    "from rl.function_approx import FunctionApprox, LinearFunctionApprox\n",
    "from rl.distribution import Choose\n",
    "from rl.chapter2.simple_inventory_mrp import SimpleInventoryMRPFinite\n",
    "from rl.chapter2.simple_inventory_mrp import InventoryState\n",
    "from rl.chapter10.prediction_utils import (\n",
    "    mc_prediction_learning_rate,\n",
    "    td_prediction_learning_rate\n",
    ")\n",
    "import numpy as np\n",
    "from itertools import islice\n",
    "\n",
    "capacity: int = 2\n",
    "poisson_lambda: float = 1.0\n",
    "holding_cost: float = 1.0\n",
    "stockout_cost: float = 10.0\n",
    "\n",
    "gamma: float = 0.9\n",
    "    \n",
    "si_mrp: SimpleInventoryMRPFinite = SimpleInventoryMRPFinite(\n",
    "    capacity=capacity,\n",
    "    poisson_lambda=poisson_lambda,\n",
    "    holding_cost=holding_cost,\n",
    "    stockout_cost=stockout_cost\n",
    ")"
   ]
  },
  {
   "cell_type": "code",
   "execution_count": 3,
   "metadata": {},
   "outputs": [
    {
     "name": "stdout",
     "output_type": "stream",
     "text": [
      "{InventoryState(on_hand=0, on_order=0): -35.511,\n",
      " InventoryState(on_hand=1, on_order=0): -28.932,\n",
      " InventoryState(on_hand=0, on_order=1): -27.932,\n",
      " InventoryState(on_hand=0, on_order=2): -28.345,\n",
      " InventoryState(on_hand=2, on_order=0): -30.345,\n",
      " InventoryState(on_hand=1, on_order=1): -29.345}\n"
     ]
    }
   ],
   "source": [
    "si_mrp.display_value_function(gamma=gamma)"
   ]
  },
  {
   "cell_type": "code",
   "execution_count": 4,
   "metadata": {},
   "outputs": [
    {
     "data": {
      "text/plain": [
       "[InventoryState(on_hand=0, on_order=0),\n",
       " InventoryState(on_hand=0, on_order=1),\n",
       " InventoryState(on_hand=0, on_order=2),\n",
       " InventoryState(on_hand=1, on_order=0),\n",
       " InventoryState(on_hand=1, on_order=1),\n",
       " InventoryState(on_hand=2, on_order=0)]"
      ]
     },
     "execution_count": 4,
     "metadata": {},
     "output_type": "execute_result"
    }
   ],
   "source": [
    "si_mrp.non_terminal_states"
   ]
  },
  {
   "cell_type": "code",
   "execution_count": 9,
   "metadata": {},
   "outputs": [],
   "source": [
    "from typing import Sequence, Tuple, Mapping\n",
    "from rl.chapter2.simple_inventory_mrp import SimpleInventoryMRPFinite\n",
    "from rl.chapter2.simple_inventory_mrp import InventoryState\n",
    "from rl.chapter10.prediction_utils import (\n",
    "    mc_finite_equal_wts_correctness,\n",
    "    mc_finite_learning_rate_correctness,\n",
    "    td_finite_learning_rate_correctness,\n",
    "    compare_td_and_mc\n",
    ")"
   ]
  },
  {
   "cell_type": "code",
   "execution_count": 10,
   "metadata": {},
   "outputs": [],
   "source": [
    "initial_vf_dict: Mapping[InventoryState, float] = \\\n",
    "    {s: 0. for s in si_mrp.non_terminal_states}"
   ]
  },
  {
   "cell_type": "code",
   "execution_count": 11,
   "metadata": {},
   "outputs": [
    {
     "data": {
      "text/plain": [
       "{InventoryState(on_hand=0, on_order=0): 0.0,\n",
       " InventoryState(on_hand=0, on_order=1): 0.0,\n",
       " InventoryState(on_hand=0, on_order=2): 0.0,\n",
       " InventoryState(on_hand=1, on_order=0): 0.0,\n",
       " InventoryState(on_hand=1, on_order=1): 0.0,\n",
       " InventoryState(on_hand=2, on_order=0): 0.0}"
      ]
     },
     "execution_count": 11,
     "metadata": {},
     "output_type": "execute_result"
    }
   ],
   "source": [
    "initial_vf_dict"
   ]
  },
  {
   "cell_type": "code",
   "execution_count": null,
   "metadata": {},
   "outputs": [],
   "source": []
  }
 ],
 "metadata": {
  "kernelspec": {
   "display_name": "Python 3",
   "language": "python",
   "name": "python3"
  },
  "language_info": {
   "codemirror_mode": {
    "name": "ipython",
    "version": 3
   },
   "file_extension": ".py",
   "mimetype": "text/x-python",
   "name": "python",
   "nbconvert_exporter": "python",
   "pygments_lexer": "ipython3",
   "version": "3.8.5"
  },
  "toc": {
   "base_numbering": 1,
   "nav_menu": {},
   "number_sections": true,
   "sideBar": true,
   "skip_h1_title": false,
   "title_cell": "Table of Contents",
   "title_sidebar": "Contents",
   "toc_cell": false,
   "toc_position": {},
   "toc_section_display": true,
   "toc_window_display": false
  }
 },
 "nbformat": 4,
 "nbformat_minor": 4
}
