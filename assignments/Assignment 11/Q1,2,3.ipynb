{
 "cells": [
  {
   "cell_type": "code",
   "execution_count": 1,
   "metadata": {},
   "outputs": [],
   "source": [
    "import sys\n",
    "import os\n",
    "\n",
    "module_path = os.path.abspath(os.path.join('..'))\n",
    "sys.path.append(os.path.dirname(module_path))\n",
    "\n",
    "import itertools as it\n",
    "import numpy as np\n",
    "\n",
    "from typing import Iterable, Callable, Mapping, TypeVar, List\n",
    "from rl.markov_process import TransitionStep\n",
    "from rl.returns import returns\n",
    "from rl.function_approx import Tabular\n",
    "from rl.iterate import last\n",
    "from collections import defaultdict\n",
    "\n",
    "from rl.chapter2.simple_inventory_mrp import SimpleInventoryMRPFinite, InventoryState\n",
    "from rl.monte_carlo import mc_prediction\n",
    "from rl.td import td_prediction\n",
    "\n",
    "from rl.distribution import Constant\n",
    "\n",
    "S = TypeVar('S')"
   ]
  },
  {
   "cell_type": "markdown",
   "metadata": {},
   "source": [
    "# Q 1,3"
   ]
  },
  {
   "cell_type": "code",
   "execution_count": 2,
   "metadata": {},
   "outputs": [],
   "source": [
    "def tabular_mc_prediction(trs: Iterable[Iterable[TransitionStep[S]]],\n",
    "                      weight_func: Callable[[int],float],\n",
    "                      gamma: float,\n",
    "                      tol: float = 1e-06) -> List[Mapping[S,float]]:\n",
    "    \n",
    "    episodes = [returns(trace,gamma,tol) for trace in trs]\n",
    "    v: Mapping[S,float] = defaultdict(float)\n",
    "    occurence: Mapping[S,int] = defaultdict(lambda:0)\n",
    "        \n",
    "    for episode in episodes:\n",
    "        for st in episode:\n",
    "            occurence[st.state] += 1\n",
    "            v[st.state] = (1-weight_func(occurence[st.state]))* v[st.state] +\\\n",
    "                weight_func(occurence[st.state])*st.return_\n",
    "    return v"
   ]
  },
  {
   "cell_type": "code",
   "execution_count": 3,
   "metadata": {},
   "outputs": [],
   "source": [
    "capacity: int = 2\n",
    "poisson_lambda: float = 1.0\n",
    "holding_cost: float = 1.0\n",
    "stockout_cost: float = 10.0\n",
    "\n",
    "gamma: float = 0.9\n",
    "\n",
    "si_mrp: SimpleInventoryMRPFinite = SimpleInventoryMRPFinite(\n",
    "    capacity=capacity,\n",
    "    poisson_lambda=poisson_lambda,\n",
    "    holding_cost=holding_cost,\n",
    "    stockout_cost=stockout_cost,\n",
    ")"
   ]
  },
  {
   "cell_type": "code",
   "execution_count": 6,
   "metadata": {},
   "outputs": [
    {
     "name": "stdout",
     "output_type": "stream",
     "text": [
      "{InventoryState(on_hand=0, on_order=2): -28.345,\n",
      " InventoryState(on_hand=2, on_order=0): -30.345,\n",
      " InventoryState(on_hand=1, on_order=1): -29.345,\n",
      " InventoryState(on_hand=1, on_order=0): -28.932,\n",
      " InventoryState(on_hand=0, on_order=1): -27.932,\n",
      " InventoryState(on_hand=0, on_order=0): -35.511}\n"
     ]
    }
   ],
   "source": [
    "si_mrp.display_value_function(gamma=gamma)"
   ]
  },
  {
   "cell_type": "code",
   "execution_count": 10,
   "metadata": {},
   "outputs": [],
   "source": [
    "start = InventoryState(on_hand = 0, on_order = 0)\n",
    "sample = [list(it.islice(si_mrp.simulate_reward(Constant(start)),1000)) \n",
    "          for _ in range(100)]\n",
    "\n",
    "self_func = tabular_mc_prediction(sample, lambda n: 1./n, gamma)"
   ]
  },
  {
   "cell_type": "code",
   "execution_count": 13,
   "metadata": {},
   "outputs": [
    {
     "data": {
      "text/plain": [
       "defaultdict(float,\n",
       "            {InventoryState(on_hand=0, on_order=0): -35.29706579811771,\n",
       "             InventoryState(on_hand=0, on_order=2): -28.11146076434423,\n",
       "             InventoryState(on_hand=1, on_order=0): -28.881851892029175,\n",
       "             InventoryState(on_hand=0, on_order=1): -28.004776225243578,\n",
       "             InventoryState(on_hand=1, on_order=1): -29.331205300794107,\n",
       "             InventoryState(on_hand=2, on_order=0): -30.33612111279546})"
      ]
     },
     "execution_count": 13,
     "metadata": {},
     "output_type": "execute_result"
    }
   ],
   "source": [
    "self_func"
   ]
  },
  {
   "cell_type": "code",
   "execution_count": 15,
   "metadata": {},
   "outputs": [
    {
     "data": {
      "text/plain": [
       "{InventoryState(on_hand=0, on_order=0): -35.29706579811771,\n",
       " InventoryState(on_hand=0, on_order=2): -28.11146076434423,\n",
       " InventoryState(on_hand=1, on_order=0): -28.881851892029175,\n",
       " InventoryState(on_hand=0, on_order=1): -28.004776225243578,\n",
       " InventoryState(on_hand=1, on_order=1): -29.331205300794107,\n",
       " InventoryState(on_hand=2, on_order=0): -30.33612111279546}"
      ]
     },
     "execution_count": 15,
     "metadata": {},
     "output_type": "execute_result"
    }
   ],
   "source": [
    "approx = Tabular()\n",
    "last(mc_prediction(sample,approx,gamma)).values_map"
   ]
  },
  {
   "cell_type": "markdown",
   "metadata": {},
   "source": [
    "# Q2,3 "
   ]
  },
  {
   "cell_type": "code",
   "execution_count": 22,
   "metadata": {},
   "outputs": [],
   "source": [
    "def tabular_td_prediction(trans: Iterable[TransitionStep[S]],\n",
    "                      weight_func: Callable[[int],float],\n",
    "                      gamma: float) -> List[Mapping[S,float]]:\n",
    "    v: Mapping[S,float] = defaultdict(float)\n",
    "    occurence: Mapping[S,int] = defaultdict(int)\n",
    "        \n",
    "        \n",
    "    for st in trans: ##we are not given a whole episode now\n",
    "        occurence[st.state] += 1\n",
    "        v[st.state] += weight_func(occurence[st.state])*(st.reward + gamma*v[st.next_state]\n",
    "                                                         - v[st.state]) ##use 1 step reward instead of return\n",
    "\n",
    "    return v"
   ]
  },
  {
   "cell_type": "code",
   "execution_count": 25,
   "metadata": {},
   "outputs": [],
   "source": [
    "start = InventoryState(on_hand = 0, on_order = 0)\n",
    "sample = list(itertools.islice(si_mrp.simulate_reward(Constant(start)),100000))\n",
    "res_1 = tabular_td_prediction(sample, lambda n: 1./n, gamma)"
   ]
  },
  {
   "cell_type": "code",
   "execution_count": 26,
   "metadata": {},
   "outputs": [
    {
     "data": {
      "text/plain": [
       "defaultdict(float,\n",
       "            {InventoryState(on_hand=0, on_order=0): -24.750359610543377,\n",
       "             InventoryState(on_hand=0, on_order=2): -17.57790833807345,\n",
       "             InventoryState(on_hand=1, on_order=0): -18.15714676168148,\n",
       "             InventoryState(on_hand=1, on_order=1): -18.563091921139982,\n",
       "             InventoryState(on_hand=0, on_order=1): -17.160240499372055,\n",
       "             InventoryState(on_hand=2, on_order=0): -19.56436209341991})"
      ]
     },
     "execution_count": 26,
     "metadata": {},
     "output_type": "execute_result"
    }
   ],
   "source": [
    "res_1"
   ]
  },
  {
   "cell_type": "code",
   "execution_count": 29,
   "metadata": {},
   "outputs": [
    {
     "data": {
      "text/plain": [
       "{InventoryState(on_hand=0, on_order=0): -24.750359610543335,\n",
       " InventoryState(on_hand=0, on_order=2): -17.577908338073506,\n",
       " InventoryState(on_hand=1, on_order=0): -18.157146761681386,\n",
       " InventoryState(on_hand=1, on_order=1): -18.563091921139804,\n",
       " InventoryState(on_hand=0, on_order=1): -17.160240499371913,\n",
       " InventoryState(on_hand=2, on_order=0): -19.564362093419764}"
      ]
     },
     "execution_count": 29,
     "metadata": {},
     "output_type": "execute_result"
    }
   ],
   "source": [
    "approx = Tabular()\n",
    "last(td_prediction(sample,approx,gamma)).values_map"
   ]
  },
  {
   "cell_type": "code",
   "execution_count": 30,
   "metadata": {},
   "outputs": [
    {
     "name": "stdout",
     "output_type": "stream",
     "text": [
      "{InventoryState(on_hand=0, on_order=2): -28.345,\n",
      " InventoryState(on_hand=2, on_order=0): -30.345,\n",
      " InventoryState(on_hand=1, on_order=1): -29.345,\n",
      " InventoryState(on_hand=1, on_order=0): -28.932,\n",
      " InventoryState(on_hand=0, on_order=1): -27.932,\n",
      " InventoryState(on_hand=0, on_order=0): -35.511}\n"
     ]
    }
   ],
   "source": [
    "si_mrp.display_value_function(gamma=gamma)"
   ]
  },
  {
   "cell_type": "code",
   "execution_count": null,
   "metadata": {},
   "outputs": [],
   "source": []
  }
 ],
 "metadata": {
  "kernelspec": {
   "display_name": "Python 3",
   "language": "python",
   "name": "python3"
  },
  "language_info": {
   "codemirror_mode": {
    "name": "ipython",
    "version": 3
   },
   "file_extension": ".py",
   "mimetype": "text/x-python",
   "name": "python",
   "nbconvert_exporter": "python",
   "pygments_lexer": "ipython3",
   "version": "3.8.5"
  },
  "toc": {
   "base_numbering": 1,
   "nav_menu": {},
   "number_sections": true,
   "sideBar": true,
   "skip_h1_title": false,
   "title_cell": "Table of Contents",
   "title_sidebar": "Contents",
   "toc_cell": false,
   "toc_position": {},
   "toc_section_display": true,
   "toc_window_display": false
  }
 },
 "nbformat": 4,
 "nbformat_minor": 4
}
