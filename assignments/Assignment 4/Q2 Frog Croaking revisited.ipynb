{
 "cells": [
  {
   "cell_type": "code",
   "execution_count": 1,
   "metadata": {},
   "outputs": [],
   "source": [
    "import sys\n",
    "import os\n",
    "\n",
    "module_path = os.path.abspath(os.path.join('..'))\n",
    "sys.path.append(os.path.dirname(module_path))\n",
    "\n",
    "from collections import defaultdict\n",
    "from rl.markov_decision_process import  StateActionMapping, FinitePolicy, FiniteMarkovDecisionProcess\n",
    "from rl.markov_process import FiniteMarkovRewardProcess\n",
    "from rl.markov_process import StateReward\n",
    "from rl.distribution import Choose,Constant,Categorical\n",
    "from dataclasses import dataclass\n",
    "import numpy as np\n",
    "import matplotlib.pyplot as plt\n",
    "from rl.dynamic_programming import policy_iteration_result, value_iteration_result\n",
    "from typing import (Dict, Iterable, Generic, Sequence, Tuple,\n",
    "                    Mapping, Optional, TypeVar, Generator)"
   ]
  },
  {
   "cell_type": "code",
   "execution_count": 2,
   "metadata": {},
   "outputs": [],
   "source": [
    "def getMapping(n):\n",
    "    N = [i for i in range(n) if i!=0] ##non-terminal states\n",
    "    t = [0,n]\n",
    "    actions = [\"A\",\"B\"]\n",
    "    rewards = {i:0 for i in range(n) if i!=0}\n",
    "    rewards[0]=0\n",
    "    rewards[n]=1\n",
    "    mapping={}\n",
    "    for i in N:\n",
    "        mapping[i]={}\n",
    "        for a in actions:\n",
    "            if a==\"A\":\n",
    "                d ={(i-1,rewards[i-1]):i/n,(i+1,rewards[i+1]):1-i/n}\n",
    "            else:\n",
    "                d = {(j,rewards[j]):1/n for j in range(n+1) if j!=i}\n",
    "            mapping[i][a]= Categorical(d)\n",
    "    mapping[0]=None\n",
    "    mapping[n]=None\n",
    "    return mapping"
   ]
  },
  {
   "cell_type": "code",
   "execution_count": 32,
   "metadata": {},
   "outputs": [],
   "source": [
    "from itertools import product\n",
    "## policies, each non terminal state, we can have a or b,\n",
    "def getAllPolicies(n):\n",
    "    ##list of all policies\n",
    "    all_policies = []\n",
    "    allProduct = product(\"AB\",repeat = n-1)\n",
    "    \n",
    "    for scen in allProduct:\n",
    "        i = 1\n",
    "        d = {}\n",
    "        for action in scen:\n",
    "            d[i]=Constant(action)\n",
    "            i+=1\n",
    "        d[0] = None\n",
    "        d[n] = None\n",
    "        all_policies.append(FinitePolicy(d))\n",
    "    return all_policies"
   ]
  },
  {
   "cell_type": "code",
   "execution_count": 30,
   "metadata": {},
   "outputs": [],
   "source": [
    "def optimal_policy(n,mdp):\n",
    "    ## return best policy that's strictly greater than the rest\n",
    "    optimal_policy = None\n",
    "    v_star = None\n",
    "    for pol in getAllPolicies(n):\n",
    "        mrp = mdp.apply_finite_policy(pol)\n",
    "        value = mrp.get_value_function_vec(1)\n",
    "        if optimal_policy is None or (v_star<value).all():\n",
    "            optimal_policy=pol\n",
    "            v_star=value\n",
    "    return optimal_policy"
   ]
  },
  {
   "cell_type": "code",
   "execution_count": 27,
   "metadata": {},
   "outputs": [],
   "source": [
    "def brute_force(mdp,n):\n",
    "    pol = optimal_policy(n,mdp)\n",
    "    mrp = mdp.apply_finite_policy(pol)\n",
    "    value = mrp.get_value_function_vec(1)\n",
    "    return value"
   ]
  },
  {
   "cell_type": "code",
   "execution_count": 28,
   "metadata": {},
   "outputs": [],
   "source": [
    "mdp = FiniteMarkovDecisionProcess(getMapping(17))\n",
    "opt_vf_pi, opt_policy_pi = policy_iteration_result(mdp, gamma=1)\n"
   ]
  },
  {
   "cell_type": "code",
   "execution_count": 34,
   "metadata": {},
   "outputs": [
    {
     "data": {
      "text/plain": [
       "<matplotlib.legend.Legend at 0x7fadfa5faf70>"
      ]
     },
     "execution_count": 34,
     "metadata": {},
     "output_type": "execute_result"
    },
    {
     "data": {
      "image/png": "[encoded data removed]",
      "text/plain": [
       "<Figure size 432x288 with 1 Axes>"
      ]
     },
     "metadata": {
      "needs_background": "light"
     },
     "output_type": "display_data"
    }
   ],
   "source": [
    "import time\n",
    "x = range(3,15)\n",
    "brute = []\n",
    "policy_it = []\n",
    "value_it = []\n",
    "for n in x:\n",
    "    mdp = FiniteMarkovDecisionProcess(getMapping(n))\n",
    "    t1 = time.time()\n",
    "    value = brute_force(mdp,n)\n",
    "    brute.append(time.time()-t1)\n",
    "    \n",
    "    t1 = time.time()\n",
    "    opt_vf_pi, opt_policy_pi = policy_iteration_result(mdp, gamma=1)\n",
    "    policy_it.append(time.time()-t1)\n",
    "    \n",
    "    t1 = time.time()\n",
    "    _1, _2 = value_iteration_result(mdp, gamma=1)\n",
    "    value_it.append(time.time()-t1)\n",
    "\n",
    "plt.plot(x, brute, c='r', label='Brute Force')\n",
    "plt.plot(x, policy_it, c='b', label='Policy Iteration')\n",
    "plt.plot(x, value_it, c='g', label='Value Iteration')\n",
    "plt.xlabel('Number of Lilypads')\n",
    "plt.ylabel('Time till Convergence')\n",
    "plt.legend()"
   ]
  },
  {
   "cell_type": "code",
   "execution_count": null,
   "metadata": {},
   "outputs": [],
   "source": []
  }
 ],
 "metadata": {
  "kernelspec": {
   "display_name": "Python 3",
   "language": "python",
   "name": "python3"
  },
  "language_info": {
   "codemirror_mode": {
    "name": "ipython",
    "version": 3
   },
   "file_extension": ".py",
   "mimetype": "text/x-python",
   "name": "python",
   "nbconvert_exporter": "python",
   "pygments_lexer": "ipython3",
   "version": "3.8.5"
  },
  "toc": {
   "base_numbering": 1,
   "nav_menu": {},
   "number_sections": true,
   "sideBar": true,
   "skip_h1_title": false,
   "title_cell": "Table of Contents",
   "title_sidebar": "Contents",
   "toc_cell": false,
   "toc_position": {},
   "toc_section_display": true,
   "toc_window_display": false
  }
 },
 "nbformat": 4,
 "nbformat_minor": 4
}
