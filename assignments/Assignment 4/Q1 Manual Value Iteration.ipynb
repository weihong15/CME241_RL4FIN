{
 "cells": [
  {
   "cell_type": "markdown",
   "metadata": {},
   "source": [
    "calculating all the $Q_1(s,a)$, given $v_0=[10,1]$\n",
    "\\begin{align}\n",
    "Q_1(s_1,a_1)=8+.2*10+.6=10.6\\\\\n",
    "Q_1(s_1,a_2)=10+.1*10+.2=11.2\\\\\n",
    "Q_1(s_2,a_1)=1+.3*10+.3=4.3\\\\\n",
    "Q_1(s_2,a_2)=-1+.5*10+.3=4.3\\\\\n",
    "v_1= [11.2,4.3]\\\\\n",
    "\\pi_1 = [a_2,a_1]\n",
    "\\end{align}\n",
    "\n",
    "Iteration 2\n",
    "\\begin{align}\n",
    "Q_1(s_1,a_1)=8+.2*11.2+.6*4.3=12.82\\\\\n",
    "Q_1(s_1,a_2)=10+.1*11.2+.2*4.3=11.98\\\\\n",
    "Q_1(s_2,a_1)=1+.3*11.2+.3*4.3=5.65\\\\\n",
    "Q_1(s_2,a_2)=-1+.5*11.2+.3*4.3=5.89\\\\\n",
    "v_2= [12.82,5.89]\\\\\n",
    "\\pi_2 = [a_1,a_2]\n",
    "\\end{align}\n"
   ]
  },
  {
   "cell_type": "markdown",
   "metadata": {},
   "source": [
    "## part 2, show that $\\pi_i = \\pi_2$ for $i>2$ "
   ]
  },
  {
   "cell_type": "markdown",
   "metadata": {},
   "source": [
    "To show $\\pi_k[s_1]=a_1$ for k larger than 2, we just have to show that $Q_k(s_1,a_1)\\geq Q_k(s_1,a_2)$\n",
    "\n",
    "\\begin{align}\n",
    "Q_k(s_1,a_1)- Q_k(s_1,a_2)& = -2 + .1* v_{k-1}(s_1) + 0.4 *v_{k-1}(s_2)\\\\\n",
    "& \\geq -2 + .1* v_{2}(s_1) + 0.4 *v_{2}(s_2) = 1.63\n",
    "\\end{align}\n",
    "// we might have to show that v_k is increasing? \n",
    "\n",
    "likewise \n",
    "\\begin{align}\n",
    "Q_k(s_2,a_2)- Q_k(s_2,a_1)& = -2 +0.2v_{k-1}(s_1) \\geq 2.56 >0\n",
    "\\end{align}\n",
    "\n",
    "so $\\pi_i$ does not changes for i>2"
   ]
  },
  {
   "cell_type": "code",
   "execution_count": null,
   "metadata": {},
   "outputs": [],
   "source": []
  }
 ],
 "metadata": {
  "kernelspec": {
   "display_name": "Python 3",
   "language": "python",
   "name": "python3"
  },
  "language_info": {
   "codemirror_mode": {
    "name": "ipython",
    "version": 3
   },
   "file_extension": ".py",
   "mimetype": "text/x-python",
   "name": "python",
   "nbconvert_exporter": "python",
   "pygments_lexer": "ipython3",
   "version": "3.8.5"
  },
  "toc": {
   "base_numbering": 1,
   "nav_menu": {},
   "number_sections": true,
   "sideBar": true,
   "skip_h1_title": false,
   "title_cell": "Table of Contents",
   "title_sidebar": "Contents",
   "toc_cell": false,
   "toc_position": {},
   "toc_section_display": true,
   "toc_window_display": false
  }
 },
 "nbformat": 4,
 "nbformat_minor": 4
}
