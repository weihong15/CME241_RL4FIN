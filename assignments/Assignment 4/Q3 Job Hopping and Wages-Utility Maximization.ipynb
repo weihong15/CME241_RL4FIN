{
 "cells": [
  {
   "cell_type": "markdown",
   "metadata": {},
   "source": [
    "2 cases:\n",
    "1. Start day employed at job i, get paid $w_i$, lose job probability $\\alpha$. Start next day unemployed, else employed\n",
    "2. Randomly offer one of n jobs with prob $p_i$, action, accept or decline. get unemployment benefit $w_0$\n",
    "\n",
    "Other information\n",
    "1. $\\gamma \\in [0,1)$\n",
    "2. utility of wages $U(w)=log(w)$\n",
    "3. seek to maximize \n",
    "\\begin{equation}\n",
    "\\mathbb{E}\\left[ \\sum_{u=t}^\\infty \\gamma^{u-t} log(w_{i_u})\\right]\n",
    "\\end{equation}"
   ]
  },
  {
   "cell_type": "markdown",
   "metadata": {},
   "source": [
    "answers:\n",
    "\n",
    "1. StateSpace: since there are n jobs, we let job id 0 be jobless, while 1  to n be there respective job.  \n",
    "$S=\\{i|i \\in [0,n], i\\in \\mathbb{Z}\\}$\n",
    "2. Action Space: if u are in a job, u have no actions, if u are jobless u can choose to accept or decline.\n",
    "$\\mathcal{A} = \\{\"accept\",\"decline\",None\\}$\n",
    "3. Transition Function: in a job, transit to remain, or no job, jobless, transit to same or have job i, P(s,a,s')\n",
    "```\n",
    "P(0,\"accept\",i) = p_i //for all i>0\n",
    "P(0,\"decline\",0) = 1\n",
    "P(i,None,0) = alpha \n",
    "P(i,None,1) = 1-alpha\n",
    "```\n",
    "All other probabilities are 0\n",
    "4. Reward Function R(N,a)  \n",
    "\\begin{align}\n",
    "R(0,\"accept\") = \\sum_{i=1}^n \\frac{w_i}{n}\\\\\n",
    "R(0,\"decline\") = w_0\\\\\n",
    "R(i,None) = \\alpha*w_0 + (1-\\alpha)*w_i\n",
    "\\end{align}"
   ]
  },
  {
   "cell_type": "code",
   "execution_count": null,
   "metadata": {},
   "outputs": [],
   "source": []
  }
 ],
 "metadata": {
  "kernelspec": {
   "display_name": "Python 3",
   "language": "python",
   "name": "python3"
  },
  "language_info": {
   "codemirror_mode": {
    "name": "ipython",
    "version": 3
   },
   "file_extension": ".py",
   "mimetype": "text/x-python",
   "name": "python",
   "nbconvert_exporter": "python",
   "pygments_lexer": "ipython3",
   "version": "3.8.5"
  },
  "toc": {
   "base_numbering": 1,
   "nav_menu": {},
   "number_sections": true,
   "sideBar": true,
   "skip_h1_title": false,
   "title_cell": "Table of Contents",
   "title_sidebar": "Contents",
   "toc_cell": false,
   "toc_position": {},
   "toc_section_display": true,
   "toc_window_display": false
  }
 },
 "nbformat": 4,
 "nbformat_minor": 4
}
