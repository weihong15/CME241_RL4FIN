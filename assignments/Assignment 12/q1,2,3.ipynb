{
 "cells": [
  {
   "cell_type": "markdown",
   "metadata": {},
   "source": [
    "Q 1, n step bootstrap\n"
   ]
  },
  {
   "cell_type": "code",
   "execution_count": 1,
   "metadata": {},
   "outputs": [],
   "source": [
    "import sys\n",
    "import os\n",
    "\n",
    "module_path = os.path.abspath(os.path.join('..'))\n",
    "sys.path.append(os.path.dirname(module_path))\n",
    "\n",
    "import itertools as it\n",
    "import numpy as np\n",
    "\n",
    "from typing import Iterable, Callable, Mapping, TypeVar, List\n",
    "from rl.markov_process import TransitionStep\n",
    "from rl.returns import returns\n",
    "from rl.function_approx import Tabular\n",
    "from rl.iterate import last\n",
    "from collections import defaultdict\n",
    "\n",
    "from rl.chapter2.simple_inventory_mrp import SimpleInventoryMRPFinite, InventoryState\n",
    "from rl.monte_carlo import mc_prediction\n",
    "from rl.td import td_prediction\n",
    "\n",
    "from rl.distribution import Constant\n",
    "\n",
    "S = TypeVar('S')"
   ]
  },
  {
   "cell_type": "code",
   "execution_count": 8,
   "metadata": {},
   "outputs": [],
   "source": [
    "\n",
    "## we will bootstrap frmo 0 to total- n, the rest we will use a normal te\n",
    "def bootstrap(trans: Iterable[TransitionStep[S]],\n",
    "                      weight_func: Callable[[int],float],\n",
    "                          n: int,\n",
    "                      gamma: float) -> List[Mapping[S,float]]:\n",
    "    v: Mapping[S,float] = defaultdict(float)\n",
    "    occurence: Mapping[S,int] = defaultdict(int)\n",
    "        \n",
    "    trans = list(trans)\n",
    "    for i,st in enumerate(trans): ##we are not given a whole episode now\n",
    "        if i + n <len(trans):\n",
    "            occurence[st.state] += 1\n",
    "            G = 0\n",
    "            for j in range(n):\n",
    "                ## boot strap\n",
    "                G += gamma**j * trans[i+j].reward\n",
    "            G += gamma**n*v[trans[i+n].state]\n",
    "            v[st.state] += weight_func(occurence[st.state])*(G-v[st.state])\n",
    "\n",
    "    return v"
   ]
  },
  {
   "cell_type": "code",
   "execution_count": 11,
   "metadata": {},
   "outputs": [],
   "source": [
    "capacity: int = 2\n",
    "poisson_lambda: float = 1.0\n",
    "holding_cost: float = 1.0\n",
    "stockout_cost: float = 10.0\n",
    "\n",
    "gamma: float = 0.9\n",
    "\n",
    "si_mrp: SimpleInventoryMRPFinite = SimpleInventoryMRPFinite(\n",
    "    capacity=capacity,\n",
    "    poisson_lambda=poisson_lambda,\n",
    "    holding_cost=holding_cost,\n",
    "    stockout_cost=stockout_cost,\n",
    ")\n",
    "\n",
    "start = InventoryState(on_hand = 0, on_order = 0)\n",
    "sample = list(it.islice(si_mrp.simulate_reward(Constant(start)),100000))\n",
    "\n",
    "res_1 = bootstrap(sample, lambda n: 1./n,3, user_gamma)"
   ]
  },
  {
   "cell_type": "code",
   "execution_count": 12,
   "metadata": {},
   "outputs": [
    {
     "data": {
      "text/plain": [
       "defaultdict(float,\n",
       "            {InventoryState(on_hand=2, on_order=0): -28.638006406881463,\n",
       "             InventoryState(on_hand=0, on_order=0): -33.75245851590969,\n",
       "             InventoryState(on_hand=0, on_order=2): -26.58982951294689,\n",
       "             InventoryState(on_hand=1, on_order=0): -27.21333956558771,\n",
       "             InventoryState(on_hand=1, on_order=1): -27.64677548295743,\n",
       "             InventoryState(on_hand=0, on_order=1): -26.197053736793972})"
      ]
     },
     "execution_count": 12,
     "metadata": {},
     "output_type": "execute_result"
    }
   ],
   "source": [
    "res_1"
   ]
  },
  {
   "cell_type": "code",
   "execution_count": null,
   "metadata": {},
   "outputs": [],
   "source": []
  }
 ],
 "metadata": {
  "kernelspec": {
   "display_name": "Python 3",
   "language": "python",
   "name": "python3"
  },
  "language_info": {
   "codemirror_mode": {
    "name": "ipython",
    "version": 3
   },
   "file_extension": ".py",
   "mimetype": "text/x-python",
   "name": "python",
   "nbconvert_exporter": "python",
   "pygments_lexer": "ipython3",
   "version": "3.8.5"
  },
  "toc": {
   "base_numbering": 1,
   "nav_menu": {},
   "number_sections": true,
   "sideBar": true,
   "skip_h1_title": false,
   "title_cell": "Table of Contents",
   "title_sidebar": "Contents",
   "toc_cell": false,
   "toc_position": {},
   "toc_section_display": true,
   "toc_window_display": false
  }
 },
 "nbformat": 4,
 "nbformat_minor": 4
}
