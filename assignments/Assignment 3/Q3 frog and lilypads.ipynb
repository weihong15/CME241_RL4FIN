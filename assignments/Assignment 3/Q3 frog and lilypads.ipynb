{
 "cells": [
  {
   "cell_type": "code",
   "execution_count": 27,
   "metadata": {},
   "outputs": [],
   "source": [
    "import sys\n",
    "import os\n",
    "\n",
    "module_path = os.path.abspath(os.path.join('..'))\n",
    "sys.path.append(os.path.dirname(module_path))\n",
    "\n",
    "from collections import defaultdict\n",
    "from rl.markov_decision_process import  StateActionMapping, FinitePolicy, FiniteMarkovDecisionProcess\n",
    "from rl.markov_process import FiniteMarkovRewardProcess\n",
    "from rl.markov_process import StateReward\n",
    "from rl.distribution import Choose,Constant,Categorical\n",
    "from dataclasses import dataclass\n",
    "import numpy as np\n",
    "import matplotlib.pyplot as plt\n",
    "\n",
    "from typing import (Dict, Iterable, Generic, Sequence, Tuple,\n",
    "                    Mapping, Optional, TypeVar, Generator)"
   ]
  },
  {
   "cell_type": "code",
   "execution_count": 73,
   "metadata": {},
   "outputs": [],
   "source": [
    "def getMapping(n):\n",
    "    N = [i for i in range(n) if i!=0] ##non-terminal states\n",
    "    t = [0,n]\n",
    "    actions = [\"A\",\"B\"]\n",
    "    rewards = {i:0 for i in range(n) if i!=0}\n",
    "    rewards[0]=0\n",
    "    rewards[n]=1\n",
    "    mapping={}\n",
    "    for i in N:\n",
    "        mapping[i]={}\n",
    "        for a in actions:\n",
    "            if a==\"A\":\n",
    "                d ={(i-1,rewards[i-1]):i/n,(i+1,rewards[i+1]):1-i/n}\n",
    "            else:\n",
    "                d = {(j,rewards[j]):1/n for j in range(n+1) if j!=i}\n",
    "            mapping[i][a]= Categorical(d)\n",
    "    mapping[0]=None\n",
    "    mapping[n]=None\n",
    "    return mapping"
   ]
  },
  {
   "cell_type": "code",
   "execution_count": 74,
   "metadata": {},
   "outputs": [],
   "source": [
    "mdp = FiniteMarkovDecisionProcess(getMapping(3))"
   ]
  },
  {
   "cell_type": "code",
   "execution_count": 75,
   "metadata": {},
   "outputs": [
    {
     "name": "stdout",
     "output_type": "stream",
     "text": [
      "From State 1:\n",
      "  With Action A:\n",
      "    To [State 0 and Reward 0.000] with Probability 0.333\n",
      "    To [State 2 and Reward 0.000] with Probability 0.667\n",
      "  With Action B:\n",
      "    To [State 0 and Reward 0.000] with Probability 0.333\n",
      "    To [State 2 and Reward 0.000] with Probability 0.333\n",
      "    To [State 3 and Reward 1.000] with Probability 0.333\n",
      "From State 2:\n",
      "  With Action A:\n",
      "    To [State 1 and Reward 0.000] with Probability 0.667\n",
      "    To [State 3 and Reward 1.000] with Probability 0.333\n",
      "  With Action B:\n",
      "    To [State 0 and Reward 0.000] with Probability 0.333\n",
      "    To [State 1 and Reward 0.000] with Probability 0.333\n",
      "    To [State 3 and Reward 1.000] with Probability 0.333\n",
      "0 is a Terminal State\n",
      "3 is a Terminal State\n",
      "\n"
     ]
    }
   ],
   "source": [
    "print(mdp)"
   ]
  },
  {
   "cell_type": "code",
   "execution_count": 76,
   "metadata": {},
   "outputs": [],
   "source": [
    "from itertools import product\n",
    "## policies, each non terminal state, we can have a or b,\n",
    "def getAllPolicies(n):\n",
    "    ##list of all policies\n",
    "    all_policies = []\n",
    "    allProduct = product(\"AB\",repeat = n-1)\n",
    "    \n",
    "    for scen in allProduct:\n",
    "        i = 1\n",
    "        d = {}\n",
    "        for action in scen:\n",
    "            d[i]=Constant(action)\n",
    "            i+=1\n",
    "        d[0] = None\n",
    "        d[n] = None\n",
    "        all_policies.append(FinitePolicy(d))\n",
    "    return all_policies"
   ]
  },
  {
   "cell_type": "code",
   "execution_count": 77,
   "metadata": {},
   "outputs": [
    {
     "name": "stdout",
     "output_type": "stream",
     "text": [
      "policy 0 has V* = [0.4 0.6] \n",
      "policy 1 has V* = [0.28571429 0.42857143] \n",
      "policy 2 has V* = [0.57142857 0.71428571] \n",
      "policy 3 has V* = [0.5 0.5] \n"
     ]
    }
   ],
   "source": [
    "n=3\n",
    "mdp = FiniteMarkovDecisionProcess(getMapping(n))\n",
    "policies = getAllPolicies(n)\n",
    "for i,pol in enumerate(policies):\n",
    "    mrp = mdp.apply_finite_policy(pol)\n",
    "    print(\"policy {} has V* = {} \".format(i,mrp.get_value_function_vec(1)))"
   ]
  },
  {
   "cell_type": "code",
   "execution_count": 80,
   "metadata": {},
   "outputs": [],
   "source": [
    "def optimal_policy(n,mdp):\n",
    "    ## return best policy that's strictly greater than the rest\n",
    "    optimal_policy = None\n",
    "    v_star = None\n",
    "    for pol in getAllPolicies(n):\n",
    "        mrp = mdp.apply_finite_policy(pol)\n",
    "        value = mrp.get_value_function_vec(1)\n",
    "        if optimal_policy is None or (v_star<value).all():\n",
    "            optimal_policy=pol\n",
    "            v_star=value\n",
    "    return optimal_policy"
   ]
  },
  {
   "cell_type": "code",
   "execution_count": 88,
   "metadata": {},
   "outputs": [
    {
     "data": {
      "text/plain": [
       "<matplotlib.collections.PathCollection at 0x7fd6580a20a0>"
      ]
     },
     "execution_count": 88,
     "metadata": {},
     "output_type": "execute_result"
    },
    {
     "data": {
      "image/png": "[encoded data removed]",
      "text/plain": [
       "<Figure size 432x288 with 1 Axes>"
      ]
     },
     "metadata": {
      "needs_background": "light"
     },
     "output_type": "display_data"
    }
   ],
   "source": [
    "n=3\n",
    "mdp = FiniteMarkovDecisionProcess(getMapping(n))\n",
    "pol = optimal_policy(n,mdp)\n",
    "mrp = mdp.apply_finite_policy(pol)\n",
    "value = mrp.get_value_function_vec(1)\n",
    "plt.scatter(range(1,n),value)"
   ]
  },
  {
   "cell_type": "code",
   "execution_count": 92,
   "metadata": {},
   "outputs": [
    {
     "data": {
      "text/plain": [
       "<matplotlib.collections.PathCollection at 0x7fd6a06af280>"
      ]
     },
     "execution_count": 92,
     "metadata": {},
     "output_type": "execute_result"
    },
    {
     "data": {
      "image/png": "[encoded data removed]",
      "text/plain": [
       "<Figure size 432x288 with 1 Axes>"
      ]
     },
     "metadata": {
      "needs_background": "light"
     },
     "output_type": "display_data"
    }
   ],
   "source": [
    "n=6\n",
    "mdp = FiniteMarkovDecisionProcess(getMapping(n))\n",
    "pol = optimal_policy(n,mdp)\n",
    "mrp = mdp.apply_finite_policy(pol)\n",
    "value = mrp.get_value_function_vec(1)\n",
    "plt.scatter(range(1,n),value)"
   ]
  },
  {
   "cell_type": "code",
   "execution_count": 93,
   "metadata": {},
   "outputs": [
    {
     "data": {
      "text/plain": [
       "For State 1:\n",
       "  Do Action B with Probability 1.000\n",
       "For State 2:\n",
       "  Do Action A with Probability 1.000\n",
       "For State 3:\n",
       "  Do Action A with Probability 1.000\n",
       "For State 4:\n",
       "  Do Action A with Probability 1.000\n",
       "For State 5:\n",
       "  Do Action A with Probability 1.000\n",
       "0 is a Terminal State\n",
       "6 is a Terminal State"
      ]
     },
     "execution_count": 93,
     "metadata": {},
     "output_type": "execute_result"
    }
   ],
   "source": [
    "pol"
   ]
  },
  {
   "cell_type": "code",
   "execution_count": 90,
   "metadata": {},
   "outputs": [
    {
     "data": {
      "text/plain": [
       "<matplotlib.collections.PathCollection at 0x7fd65008aa30>"
      ]
     },
     "execution_count": 90,
     "metadata": {},
     "output_type": "execute_result"
    },
    {
     "data": {
      "image/png": "[encoded data removed]",
      "text/plain": [
       "<Figure size 432x288 with 1 Axes>"
      ]
     },
     "metadata": {
      "needs_background": "light"
     },
     "output_type": "display_data"
    }
   ],
   "source": [
    "n=9\n",
    "mdp = FiniteMarkovDecisionProcess(getMapping(n))\n",
    "pol = optimal_policy(n,mdp)\n",
    "mrp = mdp.apply_finite_policy(pol)\n",
    "value = mrp.get_value_function_vec(1)\n",
    "plt.scatter(range(1,n),value)"
   ]
  },
  {
   "cell_type": "markdown",
   "metadata": {},
   "source": [
    "As n increases, we can see the lowest probability increases, likelihood to reach n increases, we also see that croack B only works for the first state. "
   ]
  },
  {
   "cell_type": "code",
   "execution_count": 91,
   "metadata": {},
   "outputs": [
    {
     "data": {
      "text/plain": [
       "For State 1:\n",
       "  Do Action B with Probability 1.000\n",
       "For State 2:\n",
       "  Do Action A with Probability 1.000\n",
       "For State 3:\n",
       "  Do Action A with Probability 1.000\n",
       "For State 4:\n",
       "  Do Action A with Probability 1.000\n",
       "For State 5:\n",
       "  Do Action A with Probability 1.000\n",
       "For State 6:\n",
       "  Do Action A with Probability 1.000\n",
       "For State 7:\n",
       "  Do Action A with Probability 1.000\n",
       "For State 8:\n",
       "  Do Action A with Probability 1.000\n",
       "0 is a Terminal State\n",
       "9 is a Terminal State"
      ]
     },
     "execution_count": 91,
     "metadata": {},
     "output_type": "execute_result"
    }
   ],
   "source": [
    "pol"
   ]
  },
  {
   "cell_type": "code",
   "execution_count": null,
   "metadata": {},
   "outputs": [],
   "source": []
  }
 ],
 "metadata": {
  "kernelspec": {
   "display_name": "Python 3",
   "language": "python",
   "name": "python3"
  },
  "language_info": {
   "codemirror_mode": {
    "name": "ipython",
    "version": 3
   },
   "file_extension": ".py",
   "mimetype": "text/x-python",
   "name": "python",
   "nbconvert_exporter": "python",
   "pygments_lexer": "ipython3",
   "version": "3.8.5"
  },
  "toc": {
   "base_numbering": 1,
   "nav_menu": {},
   "number_sections": true,
   "sideBar": true,
   "skip_h1_title": false,
   "title_cell": "Table of Contents",
   "title_sidebar": "Contents",
   "toc_cell": false,
   "toc_position": {},
   "toc_section_display": true,
   "toc_window_display": false
  }
 },
 "nbformat": 4,
 "nbformat_minor": 4
}
