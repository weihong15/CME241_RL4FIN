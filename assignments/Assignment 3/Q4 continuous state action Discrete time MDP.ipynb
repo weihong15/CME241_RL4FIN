{
 "cells": [
  {
   "cell_type": "markdown",
   "metadata": {},
   "source": [
    "if $\\gamma = 0$ \n",
    "\\begin{equation}\n",
    "V^*(s) = \\max_{a\\in\\mathcal{A}}\\{\\mathcal{R}(s,a)\\} = \\max_{a\\in\\mathcal{A}}\\mathbb{E}[-e^{as'}|s,a]\n",
    "\\end{equation}\n",
    "\n",
    "$s'\\sim \\mathcal{N}(s,\\sigma^2) \\rightarrow as'\\sim \\mathcal{N}(as,a^2\\sigma^2)$, the expectation of log normal distribution is $-\\exp{(as+0.5* a^2\\sigma^2)}$, to find the maximum, we differentiate it wrt to a.\n",
    "\\begin{align}\n",
    "(s+a\\sigma^2)*\\exp{(as+0.5* a^2\\sigma^2)} = 0 \\\\\n",
    "a^* = -\\frac{s}{\\sigma^2} \\text{maximizer as this is concave function}\\\\\n",
    "\\rightarrow V^*(s) = -\\exp{(-\\frac{s^2}{\\sigma^2}+0.5*\\frac{s^2}{\\sigma^2})} \\\\\n",
    "= -\\exp{(-0.5\\frac{s^2}{\\sigma^2})}\n",
    "\\end{align}"
   ]
  },
  {
   "cell_type": "code",
   "execution_count": null,
   "metadata": {},
   "outputs": [],
   "source": []
  }
 ],
 "metadata": {
  "kernelspec": {
   "display_name": "Python 3",
   "language": "python",
   "name": "python3"
  },
  "language_info": {
   "codemirror_mode": {
    "name": "ipython",
    "version": 3
   },
   "file_extension": ".py",
   "mimetype": "text/x-python",
   "name": "python",
   "nbconvert_exporter": "python",
   "pygments_lexer": "ipython3",
   "version": "3.8.5"
  },
  "toc": {
   "base_numbering": 1,
   "nav_menu": {},
   "number_sections": true,
   "sideBar": true,
   "skip_h1_title": false,
   "title_cell": "Table of Contents",
   "title_sidebar": "Contents",
   "toc_cell": false,
   "toc_position": {},
   "toc_section_display": true,
   "toc_window_display": false
  }
 },
 "nbformat": 4,
 "nbformat_minor": 4
}
