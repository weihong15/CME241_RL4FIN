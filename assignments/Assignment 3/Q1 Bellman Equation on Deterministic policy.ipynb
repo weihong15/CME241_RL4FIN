{
 "cells": [
  {
   "cell_type": "markdown",
   "metadata": {},
   "source": [
    "# Deterministic policy\n",
    "The 4 MDP bellman policy equations given in the textbook were:\n",
    "\\begin{equation}\n",
    "V^\\pi(s)= \\sum_{a\\in\\mathcal{A}}\\pi(s,a)\\cdot\\left(\\mathcal{R}(s,a)+\\gamma\\cdot\\sum_{s'\\in\\mathcal{N}}\\mathcal{P}(s,a,s')\\cdot V^\\pi(s')\\right) \\\\\n",
    "V^\\pi(s)=\\sum_{a\\in\\mathcal{A}} \\pi(s,a)\\cdot Q^\\pi(s,a) \\\\\n",
    "Q^\\pi(s,a)=\\mathcal{R}(s,a)+\\gamma\\cdot\\sum_{s'\\in\\mathcal{N}}\\mathcal{P}(s,a,s')\\cdot V^\\pi(s')\\\\\n",
    "Q^\\pi(s,a)=\\mathcal{R}(s,a)+\\gamma\\cdot\\sum_{s'\\in\\mathcal{N}}\\mathcal{P}(s,a,s')\\sum_{a'\\in\\mathcal{A}} \n",
    "\\end{equation}"
   ]
  },
  {
   "cell_type": "markdown",
   "metadata": {},
   "source": [
    "Now we have a deterministic policy, i.e. we will perform a specific action rather than a distribution of actions.\n",
    "$\\pi(s,\\pi_d(s)) = 1, \\pi(s,a)=0$ for all other a.  \n",
    "We let $\\pi_D(s)=a^*$ Then\n",
    "\\begin{equation}\n",
    "V^{\\pi_D}(s)= \\mathcal{R}(s,a^*)+\\gamma\\cdot\\sum_{s'\\in\\mathcal{N}}\\mathcal{P}(s,a^*,s')\\cdot V^{\\pi_D}(s') \\\\\n",
    "V^{\\pi_D}(s)= Q^{\\pi_D}(s,a^*)\\\\\n",
    "Q^{\\pi_D}(s,a)=\\mathcal{R}(s,a)+\\gamma\\cdot\\sum_{s'\\in\\mathcal{N}}\\mathcal{P}(s,a,s')\\cdot V^{\\pi_D}(s')\\\\\n",
    "Q^{\\pi_D}(s,a)=\\mathcal{R}(s,a)+\\gamma\\cdot\\sum_{s'\\in\\mathcal{N}}\\mathcal{P}(s,a,s')\\cdot Q^{\\pi_D}(s',\\pi_D(s'))\\\\\n",
    "\\end{equation}"
   ]
  },
  {
   "cell_type": "code",
   "execution_count": null,
   "metadata": {},
   "outputs": [],
   "source": []
  }
 ],
 "metadata": {
  "kernelspec": {
   "display_name": "Python 3",
   "language": "python",
   "name": "python3"
  },
  "language_info": {
   "codemirror_mode": {
    "name": "ipython",
    "version": 3
   },
   "file_extension": ".py",
   "mimetype": "text/x-python",
   "name": "python",
   "nbconvert_exporter": "python",
   "pygments_lexer": "ipython3",
   "version": "3.8.5"
  },
  "toc": {
   "base_numbering": 1,
   "nav_menu": {},
   "number_sections": true,
   "sideBar": true,
   "skip_h1_title": false,
   "title_cell": "Table of Contents",
   "title_sidebar": "Contents",
   "toc_cell": false,
   "toc_position": {},
   "toc_section_display": true,
   "toc_window_display": false
  }
 },
 "nbformat": 4,
 "nbformat_minor": 4
}
