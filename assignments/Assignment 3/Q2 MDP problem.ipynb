{
 "cells": [
  {
   "cell_type": "markdown",
   "metadata": {},
   "source": [
    "We see that the state either goes up or remain the same, and the rewards is independent of states. So this is a straightforward problem. The value function is also independent of states.\n",
    "\n",
    "\\begin{align}\n",
    "R(s,a) = a(1-a) +(1-a)(1+a) = -2a^2+a+1\n",
    "\\end{align}\n",
    "\n",
    "\\begin{align}\n",
    "V^*(s) & = \\max_a \\left( R(s,a) +\\gamma \\sum_{s'\\in S} P(s,a,s')V^*(s')\\right) \\\\\n",
    "& = \\max_a \\left( -2a^2+a+1 +\\gamma (a* V^*(s) +(1-a)*V^*(s'))\\right)\n",
    "(1-\\gamma)V^*(s) & = \\max_a -2a^2+a+1\\\\\n",
    "V^*(s) & = 2.25\n",
    "\\end{align}\n",
    "\n",
    "The $arg\\,max_a -2a^2+a+1 = 0.25$, which implies it's optimal to choose a=0.25 every round, i.e. $\\pi_*(s)=0.25$"
   ]
  },
  {
   "cell_type": "code",
   "execution_count": null,
   "metadata": {},
   "outputs": [],
   "source": []
  }
 ],
 "metadata": {
  "kernelspec": {
   "display_name": "Python 3",
   "language": "python",
   "name": "python3"
  },
  "language_info": {
   "codemirror_mode": {
    "name": "ipython",
    "version": 3
   },
   "file_extension": ".py",
   "mimetype": "text/x-python",
   "name": "python",
   "nbconvert_exporter": "python",
   "pygments_lexer": "ipython3",
   "version": "3.8.5"
  },
  "toc": {
   "base_numbering": 1,
   "nav_menu": {},
   "number_sections": true,
   "sideBar": true,
   "skip_h1_title": false,
   "title_cell": "Table of Contents",
   "title_sidebar": "Contents",
   "toc_cell": false,
   "toc_position": {},
   "toc_section_display": true,
   "toc_window_display": false
  }
 },
 "nbformat": 4,
 "nbformat_minor": 4
}
