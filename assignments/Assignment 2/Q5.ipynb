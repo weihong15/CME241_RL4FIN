{
 "cells": [
  {
   "cell_type": "code",
   "execution_count": 7,
   "metadata": {},
   "outputs": [],
   "source": [
    "import sys\n",
    "import os\n",
    "\n",
    "module_path = os.path.abspath(os.path.join('..'))\n",
    "sys.path.append(os.path.dirname(module_path))\n",
    "from collections import defaultdict\n",
    "from rl.markov_process import FiniteMarkovProcess,FiniteMarkovRewardProcess,MarkovRewardProcess\n",
    "from rl.distribution import Choose,Constant,Categorical\n",
    "from dataclasses import dataclass\n",
    "\n",
    "from typing import (Dict, Iterable, Generic, Sequence, Tuple,\n",
    "                    Mapping, Optional, TypeVar, Callable)"
   ]
  },
  {
   "cell_type": "code",
   "execution_count": 26,
   "metadata": {},
   "outputs": [],
   "source": [
    "from dataclasses import dataclass\n",
    "import numpy as np\n",
    "from rl.gen_utils.common_funcs import get_logistic_func, get_unit_sigmoid_func\n",
    "\n",
    "@dataclass(frozen=True)\n",
    "class StateMP3:\n",
    "    num_up_moves: int\n",
    "    num_down_moves: int\n",
    "\n",
    "\n",
    "@dataclass\n",
    "class StockPriceMP3(MarkovRewardProcess[StateMP3]):\n",
    "\n",
    "    reward_func: Callable[[int,int], float]\n",
    "    alpha3: float = 1.0  # strength of reverse-pull (non-negative value)\n",
    "    \n",
    "        \n",
    "    def up_prob(self, state: StateMP3) -> float:\n",
    "        total = state.num_up_moves + state.num_down_moves\n",
    "        return get_unit_sigmoid_func(self.alpha3)(\n",
    "            state.num_down_moves / total\n",
    "        ) if total else 0.5\n",
    "\n",
    "    def transition_reward(self, state: StateMP3) -> Categorical[StateMP3]:\n",
    "        up_p = self.up_prob(state)\n",
    "\n",
    "        return Categorical({\n",
    "            (StateMP3(state.num_up_moves + 1, \n",
    "                      state.num_down_moves),self.reward_func(state.num_up_moves,1-state.num_down_moves)): up_p,\n",
    "            (StateMP3(state.num_up_moves, state.num_down_moves + 1),self.reward_func(\n",
    "            state.num_up_moves,state.num_down_moves-1)): 1 - up_p\n",
    "        })\n"
   ]
  },
  {
   "cell_type": "code",
   "execution_count": 27,
   "metadata": {},
   "outputs": [],
   "source": [
    "mrp=StockPriceMP3(reward_f)\n",
    "def reward_f(p,q):\n",
    "    return p+q"
   ]
  },
  {
   "cell_type": "code",
   "execution_count": 28,
   "metadata": {},
   "outputs": [
    {
     "data": {
      "text/plain": [
       "{(StateMP3(num_up_moves=4, num_down_moves=2), 2): 0.4, (StateMP3(num_up_moves=3, num_down_moves=3), 4): 0.6}"
      ]
     },
     "execution_count": 28,
     "metadata": {},
     "output_type": "execute_result"
    }
   ],
   "source": [
    "mrp.transition_reward(StateMP3(3,2))"
   ]
  },
  {
   "cell_type": "code",
   "execution_count": null,
   "metadata": {},
   "outputs": [],
   "source": []
  }
 ],
 "metadata": {
  "kernelspec": {
   "display_name": "Python 3",
   "language": "python",
   "name": "python3"
  },
  "language_info": {
   "codemirror_mode": {
    "name": "ipython",
    "version": 3
   },
   "file_extension": ".py",
   "mimetype": "text/x-python",
   "name": "python",
   "nbconvert_exporter": "python",
   "pygments_lexer": "ipython3",
   "version": "3.8.5"
  },
  "toc": {
   "base_numbering": 1,
   "nav_menu": {},
   "number_sections": true,
   "sideBar": true,
   "skip_h1_title": false,
   "title_cell": "Table of Contents",
   "title_sidebar": "Contents",
   "toc_cell": false,
   "toc_position": {},
   "toc_section_display": true,
   "toc_window_display": false
  }
 },
 "nbformat": 4,
 "nbformat_minor": 4
}
