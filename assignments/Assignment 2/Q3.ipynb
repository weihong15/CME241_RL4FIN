{
 "cells": [
  {
   "cell_type": "markdown",
   "metadata": {},
   "source": [
    "# 3. Frog puzzle\n",
    "We will attempt to model the expected time the frog jump, Let E(n) be the expected number of steps to reach end goal when we are n steps away from the goal. Starting from small cases we know that\n",
    "* $E(1) = 1$\n",
    "* $E(2) = 0.5*(1+E(1)) + 0.5(1) = 1 + 0.5*E(1)$\n",
    "* $E(3) = 1/3 * (1+E(2)) + 1/3 * (1+E(1)) + 1/3 * 1 = 1 + 1/3 *\\sum_{i=1}^2 E(i)$\n",
    "* $E(n) = 1/n * \\sum_{i=0}^{n-1} (1+E(i)) = 1 + 1/n * \\sum_{i=0}^{n-1} E(i)$, we treat E(0) as 0\n",
    "\n",
    "We attempt to simplify the reccurence relationship by removing the summation\n",
    "\\begin{align}\n",
    "E(n+1) & = 1 + \\frac{1}{n+1} \\sum_{i=0}^{n} E(i) \\\\\n",
    "& = 1 + \\frac{1}{n+1} ( E(n) + n * (E(n) -1 )) \\\\\n",
    "& = 1 - \\frac{n}{n+1} + \\frac{1}{n+1} E(n) + \\frac{n}{n+1} E(n) \\\\\n",
    "& = \\frac{1}{n+1} + E(n)\n",
    "\\end{align}\n",
    "\n",
    "We can easily deduce the above recurrence relationship as the harmonic series"
   ]
  },
  {
   "cell_type": "code",
   "execution_count": 1,
   "metadata": {},
   "outputs": [
    {
     "data": {
      "text/plain": [
       "2.9289682539682538"
      ]
     },
     "execution_count": 1,
     "metadata": {},
     "output_type": "execute_result"
    }
   ],
   "source": [
    "def num_jumps(n):\n",
    "    tot =0.0\n",
    "    for i in range(1,n+1):\n",
    "        tot+=1/i\n",
    "    return tot\n",
    "num_jumps(10)"
   ]
  },
  {
   "cell_type": "code",
   "execution_count": null,
   "metadata": {},
   "outputs": [],
   "source": []
  }
 ],
 "metadata": {
  "kernelspec": {
   "display_name": "Python 3",
   "language": "python",
   "name": "python3"
  },
  "language_info": {
   "codemirror_mode": {
    "name": "ipython",
    "version": 3
   },
   "file_extension": ".py",
   "mimetype": "text/x-python",
   "name": "python",
   "nbconvert_exporter": "python",
   "pygments_lexer": "ipython3",
   "version": "3.8.5"
  },
  "toc": {
   "base_numbering": 1,
   "nav_menu": {},
   "number_sections": true,
   "sideBar": true,
   "skip_h1_title": false,
   "title_cell": "Table of Contents",
   "title_sidebar": "Contents",
   "toc_cell": false,
   "toc_position": {},
   "toc_section_display": true,
   "toc_window_display": false
  }
 },
 "nbformat": 4,
 "nbformat_minor": 4
}
