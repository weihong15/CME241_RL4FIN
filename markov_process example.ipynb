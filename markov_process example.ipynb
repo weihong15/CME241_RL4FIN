{
 "cells": [
  {
   "cell_type": "code",
   "execution_count": 1,
   "metadata": {},
   "outputs": [],
   "source": [
    "from rl import markov_process"
   ]
  },
  {
   "cell_type": "markdown",
   "metadata": {},
   "source": [
    "data types  \n",
    "* `Transition = Mapping[S, Optional[FiniteDistribution[S]]]`\n",
    "* `non_terminal_states: Sequence[S]`\n",
    "* `transition_map: Transition[S]`\n",
    "\n",
    "# Markov Process\n",
    "ABC  \n",
    "type S: The type for each state.  \n",
    "Abstract method  \n",
    "1. `transition(state:S)-> Optional[Distribution[S]]` given current state, return distribution of next states, or if it's terminal, none\n",
    "\n",
    "Methods  \n",
    "1. `is_terminal(self, state: S) -> bool:` true if it's terminal, uses ABS self.transition\n",
    "2. `simulate(start_state_distribution: Distribution[S]) -> Iterable[S]:` create a yield for next state, start_state_distribution can be generated from self.transition(start_state)\n",
    "3. `traces(start_state_distribution: Distribution[S]) -> Iterable[Iterable[S]]:` run many traces\n",
    "\n",
    "# Finite Markov Process\n",
    "inherited from MarkovProcess  \n",
    "Methods. \n",
    "1. init `transition_map: Transition[S]`, store non_terminal_states and transition_map\n",
    "2. _repr_ print out transition_map\n",
    "3. get_transition_matrix() convert transition_map into np array, rows & col non-terminal state\n",
    "4. transition(state:S) -> Optional[FiniteDistribution[S]], `return self.transition_map[state]`\n",
    "5. states() -> Iterable[S]: `return self.transition_map.keys()`\n",
    "6. get_stationary_distribution() -> FiniteDistribution[S], diagnoalize to return stationary distribution\n",
    "7. display_stationary_distribution()\n",
    "8. generate_image() image of graph, and probability"
   ]
  },
  {
   "cell_type": "markdown",
   "metadata": {},
   "source": [
    "# TransitionStep(S)\n",
    "1. init `state:S, next_state: S, reward: float`\n",
    "2. add_return(gamma:float, return_:float) calculate reward, = current_reward + gamma* upcoming reward\n",
    "\n",
    "# ReturnStep\n",
    "not very useful\n",
    "\n",
    "# MarkovRewardProcess\n",
    "inherited from MarkovProcess  \n",
    "ABC  \n",
    "\n",
    "Method\n",
    "1. transition(state:S) -> Optional[Distribution[S]]\n",
    "2. transition_reward(state:S) -> Optional[Distribution[Tuple[S, float]]], ABC given state, return distribution of next state and reward from the transition\n",
    "3. `simulate_reward(start_state_distribution: Distribution[S]) -> Iterable[TransitionStep[S]]` yield an iterable of (state, next state, reward)\n",
    "4. `reward_traces(start_state_distribution: Distribution[S]) -> Iterable[Iterable[TransitionStep[S]]]:` \n",
    "\n",
    "# new class\n",
    "StateReward = FiniteDistribution[Tuple[S, float]]  ##each {(state,reward):p,...} has a probability  \n",
    "RewardTransition = Mapping[S, Optional[StateReward[S]]] {s0 -> {(s1,reward):p,...},...}\n",
    "\n",
    "# FiniteMarkovRewardProcess\n",
    "inherited from FiniteMarkovProcess and MarkovRewardProcess  \n",
    "\n",
    "* transition_reward_map: RewardTransition[S]\n",
    "* reward_function_vec: np.ndarray\n",
    "\n",
    "Methods\n",
    "1. init(transition_reward_map: RewardTransition[S])\n",
    "    * store transition_map ##P(s0,s1)\n",
    "    * call init of FiniteMarkovProcess with transition_map,\n",
    "    * store transition_reward_map ## P(s0,s1,r)\n",
    "    * store a expected reward vector, each item represent a non_terminal state\n",
    "2. repr\n",
    "3. `transition_reward(state: S) -> Optional[StateReward[S]])` self.transition_reward_map[state]\n",
    "4. get_value_function_vec(gamma: float) -> np.ndarray ??? not sure what is this, \n",
    "5. display_reward_function() dispaly expected reward vector\n",
    "6. display_value_function(gamma: float) display get_value_func_vec\n"
   ]
  },
  {
   "cell_type": "code",
   "execution_count": null,
   "metadata": {},
   "outputs": [],
   "source": []
  }
 ],
 "metadata": {
  "kernelspec": {
   "display_name": "Python 3",
   "language": "python",
   "name": "python3"
  },
  "language_info": {
   "codemirror_mode": {
    "name": "ipython",
    "version": 3
   },
   "file_extension": ".py",
   "mimetype": "text/x-python",
   "name": "python",
   "nbconvert_exporter": "python",
   "pygments_lexer": "ipython3",
   "version": "3.8.5"
  },
  "toc": {
   "base_numbering": 1,
   "nav_menu": {},
   "number_sections": true,
   "sideBar": true,
   "skip_h1_title": false,
   "title_cell": "Table of Contents",
   "title_sidebar": "Contents",
   "toc_cell": false,
   "toc_position": {},
   "toc_section_display": true,
   "toc_window_display": true
  }
 },
 "nbformat": 4,
 "nbformat_minor": 4
}
